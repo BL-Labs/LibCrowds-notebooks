{
 "cells": [
  {
   "cell_type": "markdown",
   "metadata": {},
   "source": [
    "# An Introduction to Visualising In the Spotlight Data Using Python\n",
    "\n",
    "This notebook demontrates a way of producing visualisations of [*In the Spotlight*](https://www.libcrowds.com/collection/playbills) results data, using Python. \n",
    "\n",
    "Taking the dataframe produced in the notebook [An Introduction to Analysing In the Spotlight Data Using Python](intro_to_analysing_its_data_using_python.ipynb), we will see how to produce statistical charts using just a few lines of code.\n",
    "\n",
    "The Python library [plotly.py](https://plot.ly/d3-js-for-python-and-pandas-charts/) is a graphing library that can be used to produce many chart types that can viewed in Jupyter notebooks.\n",
    "\n",
    "We begin by importing the required libraries."
   ]
  },
  {
   "cell_type": "code",
   "execution_count": 2,
   "metadata": {},
   "outputs": [],
   "source": [
    "import pandas\n",
    "import plotly"
   ]
  },
  {
   "cell_type": "markdown",
   "metadata": {},
   "source": [
    "## The dataset\n",
    "\n",
    "In the notebook [An Introduction to Analysing In the Spotlight Data Using Python](intro_to_analysing_its_data_using_python.ipynb) we imported all of the results from [*In the Spotlight*](https://www.libcrowds.com/collection/playbills) into a pandas dataframe. Towards the end of the notebook we stored the dataframe to disk. Here, we will load it back into memory so that we can use its contents for our visualisations."
   ]
  },
  {
   "cell_type": "code",
   "execution_count": 3,
   "metadata": {},
   "outputs": [],
   "source": [
    "df = pandas.read_pickle('../data/its_transcriptions.pkl')"
   ]
  },
  {
   "cell_type": "markdown",
   "metadata": {},
   "source": [
    "## Pie charts\n",
    "\n",
    "Pie charts are probably one of the most straightforward types of visualisation to get started with, all we need are a list of labels and a list of values. \n",
    "\n",
    "As with the other types of chart we will see later, there are additional options available for changing the charts colours, hiding the legend, displaying additional information when hovering over the chart and so on. For now, we will stick to the default options.\n",
    "\n",
    "For this chart, we will plot the top ten genres collected so far, which we can get by using the `value_counts()` method that was introduced in an [earlier notebook](intro_to_analysing_its_data_using_python.ipynb). The first few rows are also displayed below to give us a quick snapshot of the data."
   ]
  },
  {
   "cell_type": "code",
   "execution_count": 78,
   "metadata": {},
   "outputs": [
    {
     "data": {
      "text/plain": [
       "Comedy     450\n",
       "Farce      441\n",
       "Drama      210\n",
       "Tragedy    161\n",
       "Play       134\n",
       "Name: transcription, dtype: int64"
      ]
     },
     "execution_count": 78,
     "metadata": {},
     "output_type": "execute_result"
    }
   ],
   "source": [
    "genre_df = df[df['tag'] == 'genre']\n",
    "genre_counts = genre_df['transcription'].value_counts()\n",
    "genre_counts.head()"
   ]
  },
  {
   "cell_type": "markdown",
   "metadata": {},
   "source": [
    "As we can see above, we now have an index of genres against a list of values, which can now be used to define the input for our pie chart. Below, the first ten items of the index and values are converted to lists and assigned to the variables `labels` and `values`."
   ]
  },
  {
   "cell_type": "code",
   "execution_count": 84,
   "metadata": {},
   "outputs": [],
   "source": [
    "labels = genre_counts[:10].index.tolist()\n",
    "values = genre_counts[:10].tolist()"
   ]
  },
  {
   "cell_type": "markdown",
   "metadata": {},
   "source": [
    "Plotly charts are generated from a list of traces. A trace is just the name we give a collection of data and the specifications of which we want that data plotted. Some charts can plot multiple traces; in this case, we only have one.\n",
    "\n",
    "Below, a pie chart trace is defined, then used as the only item in a list to become our chart data. "
   ]
  },
  {
   "cell_type": "code",
   "execution_count": 85,
   "metadata": {},
   "outputs": [],
   "source": [
    "trace = plotly.graph_objs.Pie(labels=labels, values=values)\n",
    "chart_data = [trace]"
   ]
  },
  {
   "cell_type": "markdown",
   "metadata": {},
   "source": [
    "Finally, we can plot the chart with the following line of code."
   ]
  },
  {
   "cell_type": "code",
   "execution_count": 86,
   "metadata": {},
   "outputs": [
    {
     "data": {
      "application/vnd.plotly.v1+json": {
       "data": [
        {
         "labels": [
          "Comedy",
          "Farce",
          "Drama",
          "Tragedy",
          "Play",
          "Interlude",
          "Musical Farce",
          "Melo-Drame",
          "Opera",
          "Melo-Drama"
         ],
         "type": "pie",
         "uid": "82b256",
         "values": [
          450,
          441,
          210,
          161,
          134,
          121,
          114,
          69,
          56,
          51
         ]
        }
       ],
       "layout": {
        "autosize": true
       }
      }
     },
     "metadata": {},
     "output_type": "display_data"
    }
   ],
   "source": [
    "plotly.offline.iplot(chart_data)"
   ]
  },
  {
   "cell_type": "markdown",
   "metadata": {},
   "source": [
    "## Line charts\n",
    "\n"
   ]
  },
  {
   "cell_type": "code",
   "execution_count": 113,
   "metadata": {},
   "outputs": [
    {
     "data": {
      "text/html": [
       "<div>\n",
       "<style scoped>\n",
       "    .dataframe tbody tr th:only-of-type {\n",
       "        vertical-align: middle;\n",
       "    }\n",
       "\n",
       "    .dataframe tbody tr th {\n",
       "        vertical-align: top;\n",
       "    }\n",
       "\n",
       "    .dataframe thead th {\n",
       "        text-align: right;\n",
       "    }\n",
       "</style>\n",
       "<table border=\"1\" class=\"dataframe\">\n",
       "  <thead>\n",
       "    <tr style=\"text-align: right;\">\n",
       "      <th></th>\n",
       "      <th>0</th>\n",
       "      <th>1</th>\n",
       "      <th>2</th>\n",
       "    </tr>\n",
       "  </thead>\n",
       "  <tbody>\n",
       "    <tr>\n",
       "      <th>4096</th>\n",
       "      <td>1828</td>\n",
       "      <td>03</td>\n",
       "      <td>11</td>\n",
       "    </tr>\n",
       "    <tr>\n",
       "      <th>4183</th>\n",
       "      <td>1828</td>\n",
       "      <td>04</td>\n",
       "      <td>14</td>\n",
       "    </tr>\n",
       "    <tr>\n",
       "      <th>4216</th>\n",
       "      <td>1828</td>\n",
       "      <td>05</td>\n",
       "      <td>29</td>\n",
       "    </tr>\n",
       "    <tr>\n",
       "      <th>4458</th>\n",
       "      <td>1829</td>\n",
       "      <td>04</td>\n",
       "      <td>21</td>\n",
       "    </tr>\n",
       "    <tr>\n",
       "      <th>6337</th>\n",
       "      <td>1828</td>\n",
       "      <td>06</td>\n",
       "      <td>07</td>\n",
       "    </tr>\n",
       "  </tbody>\n",
       "</table>\n",
       "</div>"
      ],
      "text/plain": [
       "         0   1   2\n",
       "4096  1828  03  11\n",
       "4183  1828  04  14\n",
       "4216  1828  05  29\n",
       "4458  1829  04  21\n",
       "6337  1828  06  07"
      ]
     },
     "execution_count": 113,
     "metadata": {},
     "output_type": "execute_result"
    }
   ],
   "source": [
    "date_df = df[df['tag'] == 'date']\n",
    "date_df = date_df['transcription'].str.split(pat='-', expand=True)\n",
    "date_df.head()"
   ]
  },
  {
   "cell_type": "code",
   "execution_count": 119,
   "metadata": {},
   "outputs": [
    {
     "data": {
      "application/vnd.plotly.v1+json": {
       "data": [
        {
         "type": "bar",
         "uid": "28ec1d",
         "x": [
          "11",
          "12",
          "01",
          "02",
          "10",
          "04",
          "03",
          "05",
          "06",
          "07",
          "08",
          "09"
         ],
         "y": [
          452,
          447,
          434,
          407,
          331,
          331,
          321,
          267,
          246,
          179,
          178,
          108
         ]
        }
       ],
       "layout": {
        "autosize": true,
        "xaxis": {
         "autorange": true,
         "range": [
          0.5,
          12.5
         ],
         "type": "linear"
        },
        "yaxis": {
         "autorange": true,
         "range": [
          0,
          475.7894736842105
         ],
         "type": "linear"
        }
       }
      }
     },
     "metadata": {},
     "output_type": "display_data"
    }
   ],
   "source": [
    "month_counts = date_df[1].value_counts()\n",
    "x = month_counts.index.tolist()\n",
    "y = month_counts.tolist()\n",
    "trace = plotly.graph_objs.Bar(x=x, y=y)\n",
    "\n",
    "date_data = [trace]\n",
    "plotly.offline.iplot(date_data)"
   ]
  },
  {
   "cell_type": "markdown",
   "metadata": {},
   "source": [
    "Similar charts for the year or day could be generated by replacing 1 in the first line of the above code block with 0 or 3."
   ]
  },
  {
   "cell_type": "code",
   "execution_count": 123,
   "metadata": {},
   "outputs": [
    {
     "data": {
      "application/vnd.plotly.v1+json": {
       "data": [
        {
         "type": "scatter",
         "uid": "093456",
         "x": [
          "11",
          "12",
          "01",
          "02",
          "10",
          "04",
          "03",
          "05",
          "06",
          "07",
          "08",
          "09"
         ],
         "y": [
          452,
          447,
          434,
          407,
          331,
          331,
          321,
          267,
          246,
          179,
          178,
          108
         ]
        }
       ],
       "layout": {
        "autosize": true,
        "xaxis": {
         "autorange": true,
         "range": [
          0.30890052356020936,
          12.69109947643979
         ],
         "type": "linear"
        },
        "yaxis": {
         "autorange": true,
         "range": [
          82.80254777070064,
          477.19745222929936
         ],
         "type": "linear"
        }
       }
      }
     },
     "metadata": {},
     "output_type": "display_data"
    }
   ],
   "source": [
    "trace = plotly.graph_objs.Scatter(x=x, y=y)\n",
    "\n",
    "date_data = [trace]\n",
    "plotly.offline.iplot(date_data)"
   ]
  },
  {
   "cell_type": "code",
   "execution_count": null,
   "metadata": {},
   "outputs": [],
   "source": []
  }
 ],
 "metadata": {
  "kernelspec": {
   "display_name": "Python 2",
   "language": "python",
   "name": "python2"
  },
  "language_info": {
   "codemirror_mode": {
    "name": "ipython",
    "version": 2
   },
   "file_extension": ".py",
   "mimetype": "text/x-python",
   "name": "python",
   "nbconvert_exporter": "python",
   "pygments_lexer": "ipython2",
   "version": "2.7.13"
  }
 },
 "nbformat": 4,
 "nbformat_minor": 2
}
