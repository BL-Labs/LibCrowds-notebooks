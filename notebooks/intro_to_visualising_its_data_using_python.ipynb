{
 "cells": [
  {
   "cell_type": "markdown",
   "metadata": {},
   "source": [
    "# An Introduction to Visualising In the Spotlight Data Using Python\n",
    "\n",
    "In this notebook we will introduce a way of producing visualisations of [*In the Spotlight*](https://www.libcrowds.com/collection/playbills) results data, using Python. Our input will be the dataframe of transcription data produced in a [previous notebook](intro_to_analysing_its_data_using_python.ipynb).\n",
    "\n",
    "[Plotly.py](https://plot.ly/d3-js-for-python-and-pandas-charts/) is a Python graphing library that can be used to produce over 30 chart types that can viewed in Jupyter notebooks. We will use it here to produce pie and bar charts. In future notebooks we will go on to explore some more complex chart types.\n",
    "\n",
    "We begin by importing the required Python libraries, pandas and plotly."
   ]
  },
  {
   "cell_type": "code",
   "execution_count": 128,
   "metadata": {},
   "outputs": [],
   "source": [
    "import pandas\n",
    "import plotly"
   ]
  },
  {
   "cell_type": "markdown",
   "metadata": {},
   "source": [
    "## The dataset\n",
    "\n",
    "In the notebook [An Introduction to Analysing In the Spotlight Data Using Python](intro_to_analysing_its_data_using_python.ipynb) we imported all of the results data from [*In the Spotlight*](https://www.libcrowds.com/collection/playbills) into a pandas dataframe. Towards the end of the notebook we stored that dataframe to disk. Here, we will load it back into memory so that we can use its contents for our visualisations."
   ]
  },
  {
   "cell_type": "code",
   "execution_count": 129,
   "metadata": {},
   "outputs": [],
   "source": [
    "df = pandas.read_json('../data/transcriptions.gz', compression='gzip')"
   ]
  },
  {
   "cell_type": "markdown",
   "metadata": {},
   "source": [
    "## Pie charts\n",
    "\n",
    "Pie charts are perhaps one of the most straightforward types of visualisation to get started with, all we need are a list of labels and a list of values. \n",
    "\n",
    "For this chart, we will plot the top ten genres found in our current dataset. We can get a count of all of our gentres by using the `value_counts()` method, which was introduced in an [earlier notebook](intro_to_analysing_its_data_using_python.ipynb). "
   ]
  },
  {
   "cell_type": "code",
   "execution_count": 137,
   "metadata": {},
   "outputs": [],
   "source": [
    "genre_df = df[df['tag'] == 'genre']\n",
    "genre_counts = genre_df['transcription'].value_counts()"
   ]
  },
  {
   "cell_type": "markdown",
   "metadata": {},
   "source": [
    "The first few rows are also displayed below to give us a quick snapshot of the data. It shows that we now have an index of genres against a count of the number of times each genre appears in our dataset."
   ]
  },
  {
   "cell_type": "code",
   "execution_count": 138,
   "metadata": {},
   "outputs": [
    {
     "data": {
      "text/plain": [
       "Comedy     450\n",
       "Farce      441\n",
       "Drama      210\n",
       "Tragedy    161\n",
       "Play       134\n",
       "Name: transcription, dtype: int64"
      ]
     },
     "execution_count": 138,
     "metadata": {},
     "output_type": "execute_result"
    }
   ],
   "source": [
    "genre_counts.head()"
   ]
  },
  {
   "cell_type": "markdown",
   "metadata": {},
   "source": [
    "We can now define the labels and values to be used for our chart. Below, the first ten items of the index are converted to a list and assigned to the variable *labels*; a similar operation defines our *values*."
   ]
  },
  {
   "cell_type": "code",
   "execution_count": 131,
   "metadata": {},
   "outputs": [],
   "source": [
    "labels = genre_counts[:10].index.tolist()\n",
    "values = genre_counts[:10].tolist()"
   ]
  },
  {
   "cell_type": "markdown",
   "metadata": {},
   "source": [
    "Plotly charts are generated from a list of traces. A trace is just the name we give a collection of data and the specifications of which we want that data plotted. Some charts can plot multiple traces; in this case, we only have one.\n",
    "\n",
    "Below, a pie chart trace is defined and used as the only item in a list, to become our chart data. "
   ]
  },
  {
   "cell_type": "code",
   "execution_count": 132,
   "metadata": {},
   "outputs": [],
   "source": [
    "trace = plotly.graph_objs.Pie(labels=labels, values=values)\n",
    "chart_data = [trace]"
   ]
  },
  {
   "cell_type": "markdown",
   "metadata": {},
   "source": [
    "Finally, we can plot the chart with the following line of code."
   ]
  },
  {
   "cell_type": "code",
   "execution_count": 133,
   "metadata": {},
   "outputs": [
    {
     "data": {
      "application/vnd.plotly.v1+json": {
       "data": [
        {
         "labels": [
          "Comedy",
          "Farce",
          "Drama",
          "Tragedy",
          "Play",
          "Interlude",
          "Musical Farce",
          "Melo-Drame",
          "Opera",
          "Melo-Drama"
         ],
         "type": "pie",
         "uid": "e2a8e6",
         "values": [
          450,
          441,
          210,
          161,
          134,
          121,
          114,
          69,
          56,
          51
         ]
        }
       ],
       "layout": {
        "autosize": true
       }
      }
     },
     "metadata": {},
     "output_type": "display_data"
    }
   ],
   "source": [
    "plotly.offline.iplot(chart_data)"
   ]
  },
  {
   "cell_type": "markdown",
   "metadata": {},
   "source": [
    "As with the other types of chart we will see later, pie charts are additional options available for styling the chart, hiding the legend, displaying additional information when hovering over slices of the pie and so on. More details of the options available can be found in the [plotly documentation](https://plot.ly/python/pie-charts/)."
   ]
  },
  {
   "cell_type": "markdown",
   "metadata": {},
   "source": [
    "## Bar charts\n",
    "\n",
    "Bar charts can be produced with very similar code to the pie chart generated above. Again, we just need a list of labels and a list of values. For this chart, we will look at the date transcriptions to visualise the most popular months of the year identified in our current dataset. \n",
    "\n",
    "Before continuing, we need to know that we store our date transcriptions according to the [ISO 8601](https://en.wikipedia.org/wiki/ISO_8601) standard, in the format **dd-mm-yyy**.\n",
    "\n",
    "The code below uses the pandas [str.split](http://pandas.pydata.org/pandas-docs/version/0.21/generated/pandas.Series.str.split.html) function to separate our dates on the hyphen delimiter and expand the results into seperate columns."
   ]
  },
  {
   "cell_type": "code",
   "execution_count": 140,
   "metadata": {},
   "outputs": [
    {
     "data": {
      "text/html": [
       "<div>\n",
       "<style scoped>\n",
       "    .dataframe tbody tr th:only-of-type {\n",
       "        vertical-align: middle;\n",
       "    }\n",
       "\n",
       "    .dataframe tbody tr th {\n",
       "        vertical-align: top;\n",
       "    }\n",
       "\n",
       "    .dataframe thead th {\n",
       "        text-align: right;\n",
       "    }\n",
       "</style>\n",
       "<table border=\"1\" class=\"dataframe\">\n",
       "  <thead>\n",
       "    <tr style=\"text-align: right;\">\n",
       "      <th></th>\n",
       "      <th>0</th>\n",
       "      <th>1</th>\n",
       "      <th>2</th>\n",
       "    </tr>\n",
       "  </thead>\n",
       "  <tbody>\n",
       "    <tr>\n",
       "      <th>10000</th>\n",
       "      <td>1825</td>\n",
       "      <td>03</td>\n",
       "      <td>04</td>\n",
       "    </tr>\n",
       "    <tr>\n",
       "      <th>10001</th>\n",
       "      <td>1825</td>\n",
       "      <td>08</td>\n",
       "      <td>31</td>\n",
       "    </tr>\n",
       "    <tr>\n",
       "      <th>10002</th>\n",
       "      <td>1825</td>\n",
       "      <td>06</td>\n",
       "      <td>30</td>\n",
       "    </tr>\n",
       "    <tr>\n",
       "      <th>10003</th>\n",
       "      <td>1825</td>\n",
       "      <td>04</td>\n",
       "      <td>13</td>\n",
       "    </tr>\n",
       "    <tr>\n",
       "      <th>10004</th>\n",
       "      <td>1825</td>\n",
       "      <td>07</td>\n",
       "      <td>23</td>\n",
       "    </tr>\n",
       "  </tbody>\n",
       "</table>\n",
       "</div>"
      ],
      "text/plain": [
       "          0   1   2\n",
       "10000  1825  03  04\n",
       "10001  1825  08  31\n",
       "10002  1825  06  30\n",
       "10003  1825  04  13\n",
       "10004  1825  07  23"
      ]
     },
     "execution_count": 140,
     "metadata": {},
     "output_type": "execute_result"
    }
   ],
   "source": [
    "date_df = df[df['tag'] == 'date']\n",
    "split_date_df = date_df['transcription'].str.split(pat='-', expand=True)\n",
    "split_date_df.head()"
   ]
  },
  {
   "cell_type": "markdown",
   "metadata": {},
   "source": [
    "As shown above, we now have all of our years in column **0**, our months in column **1** and our days in column **2**. Similar to the operations we performed for our pie chart, we now take the counts of our months and assign the index to the variable **x** and the counts to variable **y**."
   ]
  },
  {
   "cell_type": "code",
   "execution_count": 143,
   "metadata": {},
   "outputs": [],
   "source": [
    "date_counts = split_date_df[1].value_counts()\n",
    "x = date_counts.index.tolist()\n",
    "y = date_counts.tolist()"
   ]
  },
  {
   "cell_type": "markdown",
   "metadata": {},
   "source": [
    "The bar chart can now be produced as follows."
   ]
  },
  {
   "cell_type": "code",
   "execution_count": 144,
   "metadata": {},
   "outputs": [
    {
     "data": {
      "application/vnd.plotly.v1+json": {
       "data": [
        {
         "type": "bar",
         "uid": "eb3c1c",
         "x": [
          "11",
          "12",
          "01",
          "02",
          "10",
          "04",
          "03",
          "05",
          "06",
          "07",
          "08",
          "09"
         ],
         "y": [
          452,
          447,
          434,
          407,
          331,
          331,
          321,
          267,
          246,
          179,
          178,
          108
         ]
        }
       ],
       "layout": {
        "autosize": true,
        "xaxis": {
         "autorange": true,
         "range": [
          0.5,
          12.5
         ],
         "type": "linear"
        },
        "yaxis": {
         "autorange": true,
         "range": [
          0,
          475.7894736842105
         ],
         "type": "linear"
        }
       }
      }
     },
     "metadata": {},
     "output_type": "display_data"
    }
   ],
   "source": [
    "trace = plotly.graph_objs.Bar(x=x, y=y)\n",
    "date_data = [trace]\n",
    "plotly.offline.iplot(date_data)"
   ]
  },
  {
   "cell_type": "markdown",
   "metadata": {},
   "source": [
    "To view the charts for the year or day, we could simply replace **1** in the code above with **0** or **3**."
   ]
  },
  {
   "cell_type": "markdown",
   "metadata": {},
   "source": [
    "## Summary\n",
    "\n",
    "In this notebook we began visualising our transcription data using Python. We produced a pie chart to plot our top ten genres and a bar chart to plot the most popular months of the year.\n",
    "\n",
    "Before moving on to produce more complex and interesting chart types we need to do some more work to manipulate our data. The next goal is to build up a dataset of performances, rather than just single transcriptions, so that we can plot the different aspects of the performances against one another."
   ]
  }
 ],
 "metadata": {
  "kernelspec": {
   "display_name": "Python 2",
   "language": "python",
   "name": "python2"
  },
  "language_info": {
   "codemirror_mode": {
    "name": "ipython",
    "version": 2
   },
   "file_extension": ".py",
   "mimetype": "text/x-python",
   "name": "python",
   "nbconvert_exporter": "python",
   "pygments_lexer": "ipython2",
   "version": "2.7.13"
  }
 },
 "nbformat": 4,
 "nbformat_minor": 2
}
