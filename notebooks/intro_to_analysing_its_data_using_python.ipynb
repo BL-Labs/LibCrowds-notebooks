{
 "cells": [
  {
   "cell_type": "markdown",
   "metadata": {},
   "source": [
    "# An Introduction to Analysing In the Spotlight Data Using Python\n",
    "\n",
    "The purpose of this notebook is to help you become more familiar with the data structures used to store [LibCrowds](https://www.libcrowds.com/)' results data, as well as introduce you to a key Python librarys that can be used to request, manipulate, analyse and visualise that data.\n",
    "\n",
    "The Python library used here is called [pandas](https://pandas.pydata.org/). It provides access to high-performance data analysis tools via an accessible Python interface. We will use the library to load all of our *In the Spotlight* results into a structure called a dataframe. A dataframe is a two-dimensional data structure, similar to a spreadsheet, that accepts many different kinds of input. As everything is stored in memory, rather than on disk, the only limitation to this type of data structure is going to be the amount of RAM installed on the computer. However, for any modern computer this is unlikely to be an issue until we reach tens of millions of results.\n",
    "\n",
    "We begin by importing the pandas library."
   ]
  },
  {
   "cell_type": "code",
   "execution_count": 1,
   "metadata": {},
   "outputs": [],
   "source": [
    "import pandas"
   ]
  },
  {
   "cell_type": "markdown",
   "metadata": {},
   "source": [
    "## The dataset\n",
    "\n",
    "As mentioned above, our input for this notebook will be all of the results generated so far through the crowdsourcing projects presented on [*In the Spotlight*](https://www.libcrowds.com/collections/playbills). These results are stored as Web Annotations; a W3C standard used to make data more easily reusable online. The abstract from the [Web Annotation Data Model](https://www.w3.org/TR/annotation-model) is presented below:\n",
    "\n",
    "> Annotations are typically used to convey information about a resource or associations between resources. Simple examples include a comment or tag on a single web page or image, or a blog post about a news article.\n",
    ">\n",
    "> The Web Annotation Data Model specification describes a structured model and format to enable annotations to be shared and reused across different hardware and software platforms. Common use cases can be modeled in a manner that is simple and convenient, while at the same time enabling more complex requirements, including linking arbitrary content to a particular data point or to segments of timed multimedia resources.\n",
    ">\n",
    "> The specification provides a specific JSON format for ease of creation and consumption of annotations based on the conceptual model that accommodates these use cases, and the vocabulary of terms that represents it.\n",
    "\n",
    "By using this standardised structure for our final results we aim to make the crowdsourced data generated via the LibCrowds platform more easily reusable online, providing ways for researchers to answer specific questions via programmatic means. As well as the results data, we use Web Annotations to store additional user-generated data, such as image tags. \n",
    "\n",
    "All of these annotations are available via a public API, which also complies with a [standardised protocol](https://www.w3.org/TR/annotation-protocol/). The API can be used to gain programmatic access to our current results data. Depending on the objective, this method of consuming and analysing the data is likely to present clear advantages, when compared with performing similar visualisations using offline datasets (i.e. those downloaded to your computer). Importantly, data requested via the API will always be up-to-date, as very soon after a task is completed the contributions will be analysed and the result made available via the API."
   ]
  },
  {
   "cell_type": "markdown",
   "metadata": {},
   "source": [
    "## The API\n",
    "\n",
    "The LibCrowds Web Annotation API is available at the following location:\n",
    "\n",
    "https://annotations.libcrowds.com/annotations/\n",
    "\n",
    "Results are returned in containers called Annotation Collections. To avoid overloading this notebook with new concepts (perhaps it's too late), we won't go into the semantic meaning of these keys. For now, it is enough to understand that there are consistent ways to programmatically navigate Annotation Collections and pull out the data required, regardless of where they are stored or how they were produced.\n",
    "\n",
    "In addition to the standard protocol, the API includes an endpoint to which we can make a request for an entire collection of annotations, declared below."
   ]
  },
  {
   "cell_type": "code",
   "execution_count": 2,
   "metadata": {},
   "outputs": [],
   "source": [
    "IRI = 'https://annotations.libcrowds.com/export/playbills-results/'"
   ]
  },
  {
   "cell_type": "markdown",
   "metadata": {},
   "source": [
    "Note that this dataset could be very large. If you were to enter the address above into a web-browser it is likely that it would run out of memory before it ever finished loading, it is primarily intended for used as a way of exporting the data programmatically. \n",
    "\n",
    "Further, having above extolled the virtues of using the API to access live data it may seem somewhat strange to proceed and download the entire dataset anyway. A more efficient way of using the API to search for specific data will be explored in other notebooks. However, as the primary purpose of this notebook is to introduce the structures used to store LibCrowds' data, for the sake of simplicity, in this notebook we will simply load the entire dataset into a dataframe and filter out the parts that we don't need.\n",
    "\n",
    "We can load our *In the Spotlight* results data into a pandas dataframe with the following line of code."
   ]
  },
  {
   "cell_type": "code",
   "execution_count": 3,
   "metadata": {},
   "outputs": [],
   "source": [
    "df = pandas.read_json(IRI, orient='records')"
   ]
  },
  {
   "cell_type": "markdown",
   "metadata": {},
   "source": [
    "## The data model\n",
    "\n",
    "The LibCrowds data model describes how we use Web Annotations to model our results data. It might be worth opening up [the documentation](https://docs.libcrowds.com/data/model/) for reference; the key sections are also summarised below.\n",
    "\n",
    "In this notebook we will be focussing on the transcription annotations. These are generated after at least three people have contributed to a single task where a task may be, for example, to transcribe a previously marked up region on an image. The contributions are normalised and the final result saved as an annotation if three of the normalised contributions match. If we don't find a match, the tasks are sent back into the queue.\n",
    "\n",
    "The annotations are generated according to the structure of the example annotation presented below. Don't worry if this doesn't make any sense just yet, the relevant sections will be explored in a bit more detail later. For now, note that the annotations are stored as JSON-LD; a method of encoding Linked Data using JSON. Each key has some semantic meaning, making it easier for other hardware and software platforms to consume the data.\n",
    "\n",
    "```json-ld\n",
    "{\n",
    "  \"@context\": \"http://www.w3.org/ns/anno.jsonld\",\n",
    "  \"id\": \"https://annotations.libcrowds.com/annotations/playbills-results/7640ddcd-6e48-4a9c-a360-3383032593b6\",\n",
    "  \"type\": \"Annotation\",\n",
    "  \"motivation\": \"describing\",\n",
    "  \"created\": \"018-02-08T22:15:07.152Z\",\n",
    "  \"generated\": \"018-02-08T22:15:07.152Z\",\n",
    "  \"generator\": [\n",
    "    {\n",
    "      \"id\": \"https://github.com/LibCrowds/libcrowds\",\n",
    "      \"type\": \"Software\",\n",
    "      \"name\": \"LibCrowds\",\n",
    "      \"homepage\": \"https://www.libcrowds.com\"\n",
    "    },\n",
    "    {\n",
    "      \"id\": \"https://backend.libcrowds.com/api/result/42\",\n",
    "      \"type\": \"Software\"\n",
    "    }\n",
    "  ],\n",
    "  \"body\": [\n",
    "    {\n",
    "      \"type\": \"TextualBody\",\n",
    "      \"purpose\": \"tagging\",\n",
    "      \"value\": \"title\"\n",
    "    },\n",
    "    {\n",
    "      \"type\": \"TextualBody\",\n",
    "      \"purpose\": \"describing\",\n",
    "      \"value\": \"King Lear\",\n",
    "      \"format\": \"text/plain\"\n",
    "    }\n",
    "  ],\n",
    "  \"target\": {\n",
    "    \"source\": \"https://api.bl.uk/metadata/iiif/ark:/81055/vdc_100022589096.0x0002b7\",\n",
    "    \"selector\": {\n",
    "      \"conformsTo\": \"http://www.w3.org/TR/media-frags/\",\n",
    "      \"type\": \"FragmentSelector\",\n",
    "      \"value\": \"?xywh=7,1191,1962,359\"\n",
    "    }\n",
    "  }\n",
    "}\n",
    "```\n",
    "\n",
    "For our current purposes (being analysis of the transcribed data), we only need to focus on a subset of these keys. Below, we will find out how to manipulate this data to locate only the parts of it we require."
   ]
  },
  {
   "cell_type": "markdown",
   "metadata": {},
   "source": [
    "## Processing the dataset\n",
    "\n",
    "The dataframe we created earlier contains one row per annotation, where an annotation represents a single result, and a column for each top level key found in the annotations. This is perhaps easiest to understand by looking at a few rows of the dataframe below and comparing them to the example JSON-LD annotation presented above.\n",
    "\n",
    "The following fuction can be used to return the first *n* rows in a dataframe (*n* equals 5 by default)."
   ]
  },
  {
   "cell_type": "code",
   "execution_count": 4,
   "metadata": {},
   "outputs": [
    {
     "data": {
      "text/html": [
       "<div>\n",
       "<style scoped>\n",
       "    .dataframe tbody tr th:only-of-type {\n",
       "        vertical-align: middle;\n",
       "    }\n",
       "\n",
       "    .dataframe tbody tr th {\n",
       "        vertical-align: top;\n",
       "    }\n",
       "\n",
       "    .dataframe thead th {\n",
       "        text-align: right;\n",
       "    }\n",
       "</style>\n",
       "<table border=\"1\" class=\"dataframe\">\n",
       "  <thead>\n",
       "    <tr style=\"text-align: right;\">\n",
       "      <th></th>\n",
       "      <th>body</th>\n",
       "      <th>created</th>\n",
       "      <th>creator</th>\n",
       "      <th>generated</th>\n",
       "      <th>generator</th>\n",
       "      <th>id</th>\n",
       "      <th>motivation</th>\n",
       "      <th>partOf</th>\n",
       "      <th>target</th>\n",
       "      <th>type</th>\n",
       "    </tr>\n",
       "  </thead>\n",
       "  <tbody>\n",
       "    <tr>\n",
       "      <th>0</th>\n",
       "      <td>[{u'type': u'TextualBody', u'purpose': u'descr...</td>\n",
       "      <td>2018-05-30T18:29:57Z</td>\n",
       "      <td>NaN</td>\n",
       "      <td>2018-06-04T09:43:56Z</td>\n",
       "      <td>[{u'type': u'Software', u'homepage': u'https:/...</td>\n",
       "      <td>https://annotations.libcrowds.com/annotations/...</td>\n",
       "      <td>describing</td>\n",
       "      <td>https://api.bl.uk/metadata/iiif/ark:/81055/vdc...</td>\n",
       "      <td>https://api.bl.uk/metadata/iiif/ark:/81055/vdc...</td>\n",
       "      <td>Annotation</td>\n",
       "    </tr>\n",
       "    <tr>\n",
       "      <th>1</th>\n",
       "      <td>{u'type': u'TextualBody', u'purpose': u'commen...</td>\n",
       "      <td>2018-05-30T18:31:22Z</td>\n",
       "      <td>{u'type': u'Person', u'nickname': u'SharonE', ...</td>\n",
       "      <td>2018-06-04T09:43:56Z</td>\n",
       "      <td>[{u'type': u'Software', u'homepage': u'https:/...</td>\n",
       "      <td>https://annotations.libcrowds.com/annotations/...</td>\n",
       "      <td>commenting</td>\n",
       "      <td>https://api.bl.uk/metadata/iiif/ark:/81055/vdc...</td>\n",
       "      <td>https://api.bl.uk/metadata/iiif/ark:/81055/vdc...</td>\n",
       "      <td>Annotation</td>\n",
       "    </tr>\n",
       "    <tr>\n",
       "      <th>2</th>\n",
       "      <td>{u'type': u'TextualBody', u'purpose': u'commen...</td>\n",
       "      <td>2018-05-30T18:31:22Z</td>\n",
       "      <td>NaN</td>\n",
       "      <td>2018-06-04T09:43:56Z</td>\n",
       "      <td>[{u'type': u'Software', u'homepage': u'https:/...</td>\n",
       "      <td>https://annotations.libcrowds.com/annotations/...</td>\n",
       "      <td>commenting</td>\n",
       "      <td>https://api.bl.uk/metadata/iiif/ark:/81055/vdc...</td>\n",
       "      <td>https://api.bl.uk/metadata/iiif/ark:/81055/vdc...</td>\n",
       "      <td>Annotation</td>\n",
       "    </tr>\n",
       "    <tr>\n",
       "      <th>3</th>\n",
       "      <td>{u'type': u'TextualBody', u'purpose': u'commen...</td>\n",
       "      <td>2018-05-30T18:31:23Z</td>\n",
       "      <td>{u'type': u'Person', u'nickname': u'Bar', u'id...</td>\n",
       "      <td>2018-06-04T09:43:56Z</td>\n",
       "      <td>[{u'type': u'Software', u'homepage': u'https:/...</td>\n",
       "      <td>https://annotations.libcrowds.com/annotations/...</td>\n",
       "      <td>commenting</td>\n",
       "      <td>https://api.bl.uk/metadata/iiif/ark:/81055/vdc...</td>\n",
       "      <td>https://api.bl.uk/metadata/iiif/ark:/81055/vdc...</td>\n",
       "      <td>Annotation</td>\n",
       "    </tr>\n",
       "    <tr>\n",
       "      <th>4</th>\n",
       "      <td>{u'type': u'TextualBody', u'purpose': u'commen...</td>\n",
       "      <td>2018-05-30T18:32:46Z</td>\n",
       "      <td>{u'type': u'Person', u'nickname': u'SharonE', ...</td>\n",
       "      <td>2018-06-04T09:43:56Z</td>\n",
       "      <td>[{u'type': u'Software', u'homepage': u'https:/...</td>\n",
       "      <td>https://annotations.libcrowds.com/annotations/...</td>\n",
       "      <td>commenting</td>\n",
       "      <td>https://api.bl.uk/metadata/iiif/ark:/81055/vdc...</td>\n",
       "      <td>https://api.bl.uk/metadata/iiif/ark:/81055/vdc...</td>\n",
       "      <td>Annotation</td>\n",
       "    </tr>\n",
       "  </tbody>\n",
       "</table>\n",
       "</div>"
      ],
      "text/plain": [
       "                                                body               created  \\\n",
       "0  [{u'type': u'TextualBody', u'purpose': u'descr...  2018-05-30T18:29:57Z   \n",
       "1  {u'type': u'TextualBody', u'purpose': u'commen...  2018-05-30T18:31:22Z   \n",
       "2  {u'type': u'TextualBody', u'purpose': u'commen...  2018-05-30T18:31:22Z   \n",
       "3  {u'type': u'TextualBody', u'purpose': u'commen...  2018-05-30T18:31:23Z   \n",
       "4  {u'type': u'TextualBody', u'purpose': u'commen...  2018-05-30T18:32:46Z   \n",
       "\n",
       "                                             creator             generated  \\\n",
       "0                                                NaN  2018-06-04T09:43:56Z   \n",
       "1  {u'type': u'Person', u'nickname': u'SharonE', ...  2018-06-04T09:43:56Z   \n",
       "2                                                NaN  2018-06-04T09:43:56Z   \n",
       "3  {u'type': u'Person', u'nickname': u'Bar', u'id...  2018-06-04T09:43:56Z   \n",
       "4  {u'type': u'Person', u'nickname': u'SharonE', ...  2018-06-04T09:43:56Z   \n",
       "\n",
       "                                           generator  \\\n",
       "0  [{u'type': u'Software', u'homepage': u'https:/...   \n",
       "1  [{u'type': u'Software', u'homepage': u'https:/...   \n",
       "2  [{u'type': u'Software', u'homepage': u'https:/...   \n",
       "3  [{u'type': u'Software', u'homepage': u'https:/...   \n",
       "4  [{u'type': u'Software', u'homepage': u'https:/...   \n",
       "\n",
       "                                                  id  motivation  \\\n",
       "0  https://annotations.libcrowds.com/annotations/...  describing   \n",
       "1  https://annotations.libcrowds.com/annotations/...  commenting   \n",
       "2  https://annotations.libcrowds.com/annotations/...  commenting   \n",
       "3  https://annotations.libcrowds.com/annotations/...  commenting   \n",
       "4  https://annotations.libcrowds.com/annotations/...  commenting   \n",
       "\n",
       "                                              partOf  \\\n",
       "0  https://api.bl.uk/metadata/iiif/ark:/81055/vdc...   \n",
       "1  https://api.bl.uk/metadata/iiif/ark:/81055/vdc...   \n",
       "2  https://api.bl.uk/metadata/iiif/ark:/81055/vdc...   \n",
       "3  https://api.bl.uk/metadata/iiif/ark:/81055/vdc...   \n",
       "4  https://api.bl.uk/metadata/iiif/ark:/81055/vdc...   \n",
       "\n",
       "                                              target        type  \n",
       "0  https://api.bl.uk/metadata/iiif/ark:/81055/vdc...  Annotation  \n",
       "1  https://api.bl.uk/metadata/iiif/ark:/81055/vdc...  Annotation  \n",
       "2  https://api.bl.uk/metadata/iiif/ark:/81055/vdc...  Annotation  \n",
       "3  https://api.bl.uk/metadata/iiif/ark:/81055/vdc...  Annotation  \n",
       "4  https://api.bl.uk/metadata/iiif/ark:/81055/vdc...  Annotation  "
      ]
     },
     "execution_count": 4,
     "metadata": {},
     "output_type": "execute_result"
    }
   ],
   "source": [
    "df.head()"
   ]
  },
  {
   "cell_type": "markdown",
   "metadata": {},
   "source": [
    "While these columns all serve a purpose and are essential for proper integration with other software platforms, it is likely that we will often only be interested in a few core parts of the dataset. Namely, the transcriptions provided by our volunteers, along with an indication of what they were transcribing. In Web Annotation terms, these would be referred to as the **body** and **target**, respectively. This is summarised in the following extract from the [Web Annotation Data Model](https://www.w3.org/TR/annotation-model/):\n",
    "\n",
    "> An Annotation is a Web Resource. Typically, an Annotation has a single Body, which is a comment or other descriptive resource, and a single Target that the Body is somehow \"about\". The Annotation likely also has additional descriptive properties.\n",
    "\n",
    "Among these additional descriptive properties is the **motivation**, which specifies the reason for the Annotation's creation. LibCrowds' results are generated with one of three possible motivations: tagging, describing and commenting. The code below selects the motivation column and returns the unique values it contains as an array."
   ]
  },
  {
   "cell_type": "code",
   "execution_count": 5,
   "metadata": {},
   "outputs": [
    {
     "data": {
      "text/plain": [
       "array([u'describing', u'commenting', u'tagging'], dtype=object)"
      ]
     },
     "execution_count": 5,
     "metadata": {},
     "output_type": "execute_result"
    }
   ],
   "source": [
    "df['motivation'].unique()"
   ]
  },
  {
   "cell_type": "markdown",
   "metadata": {},
   "source": [
    "For many of our analyses, we will only be interested in annotations with a particular motivation. For instance, for the remainder of this notebook we will be looking at annotations with the describing motivation. This is the type of annotation that we use to store our transcription data. The decision to use *describing* as the motivation here (rather than, say, *transcribing*) is taken as *describing* has a semantic meaning defined by the standard [Web Annotation Vocabulary](https://www.w3.org/TR/annotation-vocab/#describing):\n",
    "\n",
    "> **2.3.5 describing:** The motivation for when the user intends to describe the Target, as opposed to (for example) a comment about it. "
   ]
  },
  {
   "cell_type": "markdown",
   "metadata": {},
   "source": [
    "It is possible to select only those annotations where the motivation is equal to describing and replace the current dataframe with the result, using the code below."
   ]
  },
  {
   "cell_type": "code",
   "execution_count": 6,
   "metadata": {},
   "outputs": [],
   "source": [
    "df = df[df['motivation'] == 'describing']"
   ]
  },
  {
   "cell_type": "markdown",
   "metadata": {},
   "source": [
    "To verify that this has worked we can again check the unique motivations in the dataframe."
   ]
  },
  {
   "cell_type": "code",
   "execution_count": 7,
   "metadata": {},
   "outputs": [
    {
     "data": {
      "text/plain": [
       "array([u'describing'], dtype=object)"
      ]
     },
     "execution_count": 7,
     "metadata": {},
     "output_type": "execute_result"
    }
   ],
   "source": [
    "df['motivation'].unique()"
   ]
  },
  {
   "cell_type": "markdown",
   "metadata": {},
   "source": [
    " We can also have another look at the first few rows."
   ]
  },
  {
   "cell_type": "code",
   "execution_count": 8,
   "metadata": {},
   "outputs": [
    {
     "data": {
      "text/html": [
       "<div>\n",
       "<style scoped>\n",
       "    .dataframe tbody tr th:only-of-type {\n",
       "        vertical-align: middle;\n",
       "    }\n",
       "\n",
       "    .dataframe tbody tr th {\n",
       "        vertical-align: top;\n",
       "    }\n",
       "\n",
       "    .dataframe thead th {\n",
       "        text-align: right;\n",
       "    }\n",
       "</style>\n",
       "<table border=\"1\" class=\"dataframe\">\n",
       "  <thead>\n",
       "    <tr style=\"text-align: right;\">\n",
       "      <th></th>\n",
       "      <th>body</th>\n",
       "      <th>created</th>\n",
       "      <th>creator</th>\n",
       "      <th>generated</th>\n",
       "      <th>generator</th>\n",
       "      <th>id</th>\n",
       "      <th>motivation</th>\n",
       "      <th>partOf</th>\n",
       "      <th>target</th>\n",
       "      <th>type</th>\n",
       "    </tr>\n",
       "  </thead>\n",
       "  <tbody>\n",
       "    <tr>\n",
       "      <th>0</th>\n",
       "      <td>[{u'type': u'TextualBody', u'purpose': u'descr...</td>\n",
       "      <td>2018-05-30T18:29:57Z</td>\n",
       "      <td>NaN</td>\n",
       "      <td>2018-06-04T09:43:56Z</td>\n",
       "      <td>[{u'type': u'Software', u'homepage': u'https:/...</td>\n",
       "      <td>https://annotations.libcrowds.com/annotations/...</td>\n",
       "      <td>describing</td>\n",
       "      <td>https://api.bl.uk/metadata/iiif/ark:/81055/vdc...</td>\n",
       "      <td>https://api.bl.uk/metadata/iiif/ark:/81055/vdc...</td>\n",
       "      <td>Annotation</td>\n",
       "    </tr>\n",
       "    <tr>\n",
       "      <th>5</th>\n",
       "      <td>[{u'type': u'TextualBody', u'purpose': u'descr...</td>\n",
       "      <td>2018-05-30T18:34:35Z</td>\n",
       "      <td>NaN</td>\n",
       "      <td>2018-06-04T09:43:56Z</td>\n",
       "      <td>[{u'type': u'Software', u'homepage': u'https:/...</td>\n",
       "      <td>https://annotations.libcrowds.com/annotations/...</td>\n",
       "      <td>describing</td>\n",
       "      <td>https://api.bl.uk/metadata/iiif/ark:/81055/vdc...</td>\n",
       "      <td>https://api.bl.uk/metadata/iiif/ark:/81055/vdc...</td>\n",
       "      <td>Annotation</td>\n",
       "    </tr>\n",
       "    <tr>\n",
       "      <th>7</th>\n",
       "      <td>[{u'type': u'TextualBody', u'purpose': u'descr...</td>\n",
       "      <td>2018-05-30T18:35:04Z</td>\n",
       "      <td>NaN</td>\n",
       "      <td>2018-06-04T09:43:56Z</td>\n",
       "      <td>[{u'type': u'Software', u'homepage': u'https:/...</td>\n",
       "      <td>https://annotations.libcrowds.com/annotations/...</td>\n",
       "      <td>describing</td>\n",
       "      <td>https://api.bl.uk/metadata/iiif/ark:/81055/vdc...</td>\n",
       "      <td>https://api.bl.uk/metadata/iiif/ark:/81055/vdc...</td>\n",
       "      <td>Annotation</td>\n",
       "    </tr>\n",
       "    <tr>\n",
       "      <th>8</th>\n",
       "      <td>[{u'type': u'TextualBody', u'purpose': u'descr...</td>\n",
       "      <td>2018-05-30T18:35:35Z</td>\n",
       "      <td>NaN</td>\n",
       "      <td>2018-06-04T09:43:56Z</td>\n",
       "      <td>[{u'type': u'Software', u'homepage': u'https:/...</td>\n",
       "      <td>https://annotations.libcrowds.com/annotations/...</td>\n",
       "      <td>describing</td>\n",
       "      <td>https://api.bl.uk/metadata/iiif/ark:/81055/vdc...</td>\n",
       "      <td>https://api.bl.uk/metadata/iiif/ark:/81055/vdc...</td>\n",
       "      <td>Annotation</td>\n",
       "    </tr>\n",
       "    <tr>\n",
       "      <th>9</th>\n",
       "      <td>[{u'type': u'TextualBody', u'purpose': u'descr...</td>\n",
       "      <td>2018-05-30T18:36:12Z</td>\n",
       "      <td>NaN</td>\n",
       "      <td>2018-06-04T09:43:56Z</td>\n",
       "      <td>[{u'type': u'Software', u'homepage': u'https:/...</td>\n",
       "      <td>https://annotations.libcrowds.com/annotations/...</td>\n",
       "      <td>describing</td>\n",
       "      <td>https://api.bl.uk/metadata/iiif/ark:/81055/vdc...</td>\n",
       "      <td>https://api.bl.uk/metadata/iiif/ark:/81055/vdc...</td>\n",
       "      <td>Annotation</td>\n",
       "    </tr>\n",
       "  </tbody>\n",
       "</table>\n",
       "</div>"
      ],
      "text/plain": [
       "                                                body               created  \\\n",
       "0  [{u'type': u'TextualBody', u'purpose': u'descr...  2018-05-30T18:29:57Z   \n",
       "5  [{u'type': u'TextualBody', u'purpose': u'descr...  2018-05-30T18:34:35Z   \n",
       "7  [{u'type': u'TextualBody', u'purpose': u'descr...  2018-05-30T18:35:04Z   \n",
       "8  [{u'type': u'TextualBody', u'purpose': u'descr...  2018-05-30T18:35:35Z   \n",
       "9  [{u'type': u'TextualBody', u'purpose': u'descr...  2018-05-30T18:36:12Z   \n",
       "\n",
       "  creator             generated  \\\n",
       "0     NaN  2018-06-04T09:43:56Z   \n",
       "5     NaN  2018-06-04T09:43:56Z   \n",
       "7     NaN  2018-06-04T09:43:56Z   \n",
       "8     NaN  2018-06-04T09:43:56Z   \n",
       "9     NaN  2018-06-04T09:43:56Z   \n",
       "\n",
       "                                           generator  \\\n",
       "0  [{u'type': u'Software', u'homepage': u'https:/...   \n",
       "5  [{u'type': u'Software', u'homepage': u'https:/...   \n",
       "7  [{u'type': u'Software', u'homepage': u'https:/...   \n",
       "8  [{u'type': u'Software', u'homepage': u'https:/...   \n",
       "9  [{u'type': u'Software', u'homepage': u'https:/...   \n",
       "\n",
       "                                                  id  motivation  \\\n",
       "0  https://annotations.libcrowds.com/annotations/...  describing   \n",
       "5  https://annotations.libcrowds.com/annotations/...  describing   \n",
       "7  https://annotations.libcrowds.com/annotations/...  describing   \n",
       "8  https://annotations.libcrowds.com/annotations/...  describing   \n",
       "9  https://annotations.libcrowds.com/annotations/...  describing   \n",
       "\n",
       "                                              partOf  \\\n",
       "0  https://api.bl.uk/metadata/iiif/ark:/81055/vdc...   \n",
       "5  https://api.bl.uk/metadata/iiif/ark:/81055/vdc...   \n",
       "7  https://api.bl.uk/metadata/iiif/ark:/81055/vdc...   \n",
       "8  https://api.bl.uk/metadata/iiif/ark:/81055/vdc...   \n",
       "9  https://api.bl.uk/metadata/iiif/ark:/81055/vdc...   \n",
       "\n",
       "                                              target        type  \n",
       "0  https://api.bl.uk/metadata/iiif/ark:/81055/vdc...  Annotation  \n",
       "5  https://api.bl.uk/metadata/iiif/ark:/81055/vdc...  Annotation  \n",
       "7  https://api.bl.uk/metadata/iiif/ark:/81055/vdc...  Annotation  \n",
       "8  https://api.bl.uk/metadata/iiif/ark:/81055/vdc...  Annotation  \n",
       "9  https://api.bl.uk/metadata/iiif/ark:/81055/vdc...  Annotation  "
      ]
     },
     "execution_count": 8,
     "metadata": {},
     "output_type": "execute_result"
    }
   ],
   "source": [
    " df.head()"
   ]
  },
  {
   "cell_type": "markdown",
   "metadata": {},
   "source": [
    "As we can see above, we now have a dataframe that contains only our transcription data. However, many of the columns, such as the body, still contain nested JSON values. We will need to process these columns further to extract the data we require. This is where reference to the [LibCrowds Data Model](https://docs.libcrowds.com/data/model/) becomes necessary, in order to understand how these nested fields are structured. As the example annotation towards the top of this page shows, our describing annotations contain two bodies. One body contains a tag that indicates the entity being transcribed (e.g. the title) while the other contains the transcription as plain text. In our dataframe these two bodies are now stored as a list within the **body** column.\n",
    "\n",
    "As well as a value, each body also contains a purpose. Similar to the motiviation of the annotation, the purpose specifies the reason that the body was created. In this case, our bodies contain two purposes: tagging and describing. The tagging body defines the entity being transcribed (e.g. title) and the describing body contains the transcription.\n",
    "\n",
    "It would be useful to extract the values of these two bodies and add them to two additional columns in the dataframe, called **tag** and **transcription**. To do this we will write two functions that each check a list of bodies and return the value from the one with the purpose we require.\n",
    "\n",
    "Given a list of bodies, the function below will return the value from the body with the *tagging* purpose."
   ]
  },
  {
   "cell_type": "code",
   "execution_count": 9,
   "metadata": {},
   "outputs": [],
   "source": [
    "def get_tag(bodies):\n",
    "    for body in bodies:\n",
    "        if body['purpose'] == 'tagging':\n",
    "            return body['value']"
   ]
  },
  {
   "cell_type": "markdown",
   "metadata": {},
   "source": [
    "We can then apply this function to every item in the body column of our dataframe and output the results to a new column, called **tag**."
   ]
  },
  {
   "cell_type": "code",
   "execution_count": 10,
   "metadata": {},
   "outputs": [],
   "source": [
    "df['tag'] = df['body'].apply(get_tag)"
   ]
  },
  {
   "cell_type": "markdown",
   "metadata": {},
   "source": [
    "We will write a similar function to extract all of the transcriptions."
   ]
  },
  {
   "cell_type": "code",
   "execution_count": 11,
   "metadata": {},
   "outputs": [],
   "source": [
    "def get_transcription(bodies):\n",
    "    for body in bodies:\n",
    "        if body['purpose'] == 'describing':\n",
    "            return body['value']"
   ]
  },
  {
   "cell_type": "markdown",
   "metadata": {},
   "source": [
    "Then, apply it to every item in the body column and output the results to a new column, called **transcription**."
   ]
  },
  {
   "cell_type": "code",
   "execution_count": 12,
   "metadata": {},
   "outputs": [],
   "source": [
    "df['transcription'] = df['body'].apply(get_transcription)"
   ]
  },
  {
   "cell_type": "markdown",
   "metadata": {},
   "source": [
    "There are remaining columns in our dataframe that still contains JSON data, such as the **target**. However, as we go on to use dataframe in other notebooks we will see that we have a purpose for keeping the target as it is. So, for now, our dataframe manipulation is complete. \n",
    "\n",
    "The first few rows of our final dataset are presented below."
   ]
  },
  {
   "cell_type": "code",
   "execution_count": 13,
   "metadata": {},
   "outputs": [
    {
     "data": {
      "text/html": [
       "<div>\n",
       "<style scoped>\n",
       "    .dataframe tbody tr th:only-of-type {\n",
       "        vertical-align: middle;\n",
       "    }\n",
       "\n",
       "    .dataframe tbody tr th {\n",
       "        vertical-align: top;\n",
       "    }\n",
       "\n",
       "    .dataframe thead th {\n",
       "        text-align: right;\n",
       "    }\n",
       "</style>\n",
       "<table border=\"1\" class=\"dataframe\">\n",
       "  <thead>\n",
       "    <tr style=\"text-align: right;\">\n",
       "      <th></th>\n",
       "      <th>body</th>\n",
       "      <th>created</th>\n",
       "      <th>creator</th>\n",
       "      <th>generated</th>\n",
       "      <th>generator</th>\n",
       "      <th>id</th>\n",
       "      <th>motivation</th>\n",
       "      <th>partOf</th>\n",
       "      <th>target</th>\n",
       "      <th>type</th>\n",
       "      <th>tag</th>\n",
       "      <th>transcription</th>\n",
       "    </tr>\n",
       "  </thead>\n",
       "  <tbody>\n",
       "    <tr>\n",
       "      <th>0</th>\n",
       "      <td>[{u'type': u'TextualBody', u'purpose': u'descr...</td>\n",
       "      <td>2018-05-30T18:29:57Z</td>\n",
       "      <td>NaN</td>\n",
       "      <td>2018-06-04T09:43:56Z</td>\n",
       "      <td>[{u'type': u'Software', u'homepage': u'https:/...</td>\n",
       "      <td>https://annotations.libcrowds.com/annotations/...</td>\n",
       "      <td>describing</td>\n",
       "      <td>https://api.bl.uk/metadata/iiif/ark:/81055/vdc...</td>\n",
       "      <td>https://api.bl.uk/metadata/iiif/ark:/81055/vdc...</td>\n",
       "      <td>Annotation</td>\n",
       "      <td>genre</td>\n",
       "      <td>Melo-Drama</td>\n",
       "    </tr>\n",
       "    <tr>\n",
       "      <th>5</th>\n",
       "      <td>[{u'type': u'TextualBody', u'purpose': u'descr...</td>\n",
       "      <td>2018-05-30T18:34:35Z</td>\n",
       "      <td>NaN</td>\n",
       "      <td>2018-06-04T09:43:56Z</td>\n",
       "      <td>[{u'type': u'Software', u'homepage': u'https:/...</td>\n",
       "      <td>https://annotations.libcrowds.com/annotations/...</td>\n",
       "      <td>describing</td>\n",
       "      <td>https://api.bl.uk/metadata/iiif/ark:/81055/vdc...</td>\n",
       "      <td>https://api.bl.uk/metadata/iiif/ark:/81055/vdc...</td>\n",
       "      <td>Annotation</td>\n",
       "      <td>genre</td>\n",
       "      <td>Asiatic Melo-Dramatic Romance</td>\n",
       "    </tr>\n",
       "    <tr>\n",
       "      <th>7</th>\n",
       "      <td>[{u'type': u'TextualBody', u'purpose': u'descr...</td>\n",
       "      <td>2018-05-30T18:35:04Z</td>\n",
       "      <td>NaN</td>\n",
       "      <td>2018-06-04T09:43:56Z</td>\n",
       "      <td>[{u'type': u'Software', u'homepage': u'https:/...</td>\n",
       "      <td>https://annotations.libcrowds.com/annotations/...</td>\n",
       "      <td>describing</td>\n",
       "      <td>https://api.bl.uk/metadata/iiif/ark:/81055/vdc...</td>\n",
       "      <td>https://api.bl.uk/metadata/iiif/ark:/81055/vdc...</td>\n",
       "      <td>Annotation</td>\n",
       "      <td>genre</td>\n",
       "      <td>Broad Comic Extravaganza</td>\n",
       "    </tr>\n",
       "    <tr>\n",
       "      <th>8</th>\n",
       "      <td>[{u'type': u'TextualBody', u'purpose': u'descr...</td>\n",
       "      <td>2018-05-30T18:35:35Z</td>\n",
       "      <td>NaN</td>\n",
       "      <td>2018-06-04T09:43:56Z</td>\n",
       "      <td>[{u'type': u'Software', u'homepage': u'https:/...</td>\n",
       "      <td>https://annotations.libcrowds.com/annotations/...</td>\n",
       "      <td>describing</td>\n",
       "      <td>https://api.bl.uk/metadata/iiif/ark:/81055/vdc...</td>\n",
       "      <td>https://api.bl.uk/metadata/iiif/ark:/81055/vdc...</td>\n",
       "      <td>Annotation</td>\n",
       "      <td>genre</td>\n",
       "      <td>Melo-Dramatic Pantomime</td>\n",
       "    </tr>\n",
       "    <tr>\n",
       "      <th>9</th>\n",
       "      <td>[{u'type': u'TextualBody', u'purpose': u'descr...</td>\n",
       "      <td>2018-05-30T18:36:12Z</td>\n",
       "      <td>NaN</td>\n",
       "      <td>2018-06-04T09:43:56Z</td>\n",
       "      <td>[{u'type': u'Software', u'homepage': u'https:/...</td>\n",
       "      <td>https://annotations.libcrowds.com/annotations/...</td>\n",
       "      <td>describing</td>\n",
       "      <td>https://api.bl.uk/metadata/iiif/ark:/81055/vdc...</td>\n",
       "      <td>https://api.bl.uk/metadata/iiif/ark:/81055/vdc...</td>\n",
       "      <td>Annotation</td>\n",
       "      <td>genre</td>\n",
       "      <td>Asiatic Melo-Dramatic Romance</td>\n",
       "    </tr>\n",
       "  </tbody>\n",
       "</table>\n",
       "</div>"
      ],
      "text/plain": [
       "                                                body               created  \\\n",
       "0  [{u'type': u'TextualBody', u'purpose': u'descr...  2018-05-30T18:29:57Z   \n",
       "5  [{u'type': u'TextualBody', u'purpose': u'descr...  2018-05-30T18:34:35Z   \n",
       "7  [{u'type': u'TextualBody', u'purpose': u'descr...  2018-05-30T18:35:04Z   \n",
       "8  [{u'type': u'TextualBody', u'purpose': u'descr...  2018-05-30T18:35:35Z   \n",
       "9  [{u'type': u'TextualBody', u'purpose': u'descr...  2018-05-30T18:36:12Z   \n",
       "\n",
       "  creator             generated  \\\n",
       "0     NaN  2018-06-04T09:43:56Z   \n",
       "5     NaN  2018-06-04T09:43:56Z   \n",
       "7     NaN  2018-06-04T09:43:56Z   \n",
       "8     NaN  2018-06-04T09:43:56Z   \n",
       "9     NaN  2018-06-04T09:43:56Z   \n",
       "\n",
       "                                           generator  \\\n",
       "0  [{u'type': u'Software', u'homepage': u'https:/...   \n",
       "5  [{u'type': u'Software', u'homepage': u'https:/...   \n",
       "7  [{u'type': u'Software', u'homepage': u'https:/...   \n",
       "8  [{u'type': u'Software', u'homepage': u'https:/...   \n",
       "9  [{u'type': u'Software', u'homepage': u'https:/...   \n",
       "\n",
       "                                                  id  motivation  \\\n",
       "0  https://annotations.libcrowds.com/annotations/...  describing   \n",
       "5  https://annotations.libcrowds.com/annotations/...  describing   \n",
       "7  https://annotations.libcrowds.com/annotations/...  describing   \n",
       "8  https://annotations.libcrowds.com/annotations/...  describing   \n",
       "9  https://annotations.libcrowds.com/annotations/...  describing   \n",
       "\n",
       "                                              partOf  \\\n",
       "0  https://api.bl.uk/metadata/iiif/ark:/81055/vdc...   \n",
       "5  https://api.bl.uk/metadata/iiif/ark:/81055/vdc...   \n",
       "7  https://api.bl.uk/metadata/iiif/ark:/81055/vdc...   \n",
       "8  https://api.bl.uk/metadata/iiif/ark:/81055/vdc...   \n",
       "9  https://api.bl.uk/metadata/iiif/ark:/81055/vdc...   \n",
       "\n",
       "                                              target        type    tag  \\\n",
       "0  https://api.bl.uk/metadata/iiif/ark:/81055/vdc...  Annotation  genre   \n",
       "5  https://api.bl.uk/metadata/iiif/ark:/81055/vdc...  Annotation  genre   \n",
       "7  https://api.bl.uk/metadata/iiif/ark:/81055/vdc...  Annotation  genre   \n",
       "8  https://api.bl.uk/metadata/iiif/ark:/81055/vdc...  Annotation  genre   \n",
       "9  https://api.bl.uk/metadata/iiif/ark:/81055/vdc...  Annotation  genre   \n",
       "\n",
       "                   transcription  \n",
       "0                     Melo-Drama  \n",
       "5  Asiatic Melo-Dramatic Romance  \n",
       "7       Broad Comic Extravaganza  \n",
       "8        Melo-Dramatic Pantomime  \n",
       "9  Asiatic Melo-Dramatic Romance  "
      ]
     },
     "execution_count": 13,
     "metadata": {},
     "output_type": "execute_result"
    }
   ],
   "source": [
    "df.head()"
   ]
  },
  {
   "cell_type": "markdown",
   "metadata": {},
   "source": [
    "We will perform one final operation to save the dataframe to disk so that it can be used in future notebooks."
   ]
  },
  {
   "cell_type": "code",
   "execution_count": 14,
   "metadata": {},
   "outputs": [],
   "source": [
    "df.to_json('../data/transcriptions.gz', compression='gzip')"
   ]
  },
  {
   "cell_type": "markdown",
   "metadata": {},
   "source": [
    "## A first glance at the data\n",
    "\n",
    "Before wrapping up, it might be interesting to introduce a few more pandas functions. \n",
    "\n",
    "The [describe](https://pandas.pydata.org/pandas-docs/stable/generated/pandas.DataFrame.describe.html) function generates descriptive statistics that summarize the central tendency, dispersion and shape of a dataset’s distribution, excluding NaN values. We can try this out by first selecting the rows with the *genre* **tag** and adding them to a new dataframe."
   ]
  },
  {
   "cell_type": "code",
   "execution_count": 15,
   "metadata": {},
   "outputs": [],
   "source": [
    "genre_df = df[df['tag'] == 'genre']"
   ]
  },
  {
   "cell_type": "markdown",
   "metadata": {},
   "source": [
    "We can then describe the **transcription** column using the following line of code."
   ]
  },
  {
   "cell_type": "code",
   "execution_count": 16,
   "metadata": {},
   "outputs": [
    {
     "data": {
      "text/plain": [
       "count       2984\n",
       "unique       235\n",
       "top       Comedy\n",
       "freq         454\n",
       "Name: transcription, dtype: object"
      ]
     },
     "execution_count": 16,
     "metadata": {},
     "output_type": "execute_result"
    }
   ],
   "source": [
    "genre_df['transcription'].describe()"
   ]
  },
  {
   "cell_type": "markdown",
   "metadata": {},
   "source": [
    "This simple function already presents some interesting results. At the time of writing, we can see that we have over 200 unique genres, with comedies being the most frequently performed. Similar summaries for *title* or *date* could be produced by entering either in place of *genre*, above.\n",
    "\n",
    "We might already be curious about what some of the more unusual genres are. To find them, we can use the [value_counts](https://pandas.pydata.org/pandas-docs/stable/generated/pandas.Series.value_counts.html) function. This function returns an object containing counts of unique values. \n",
    "\n",
    "Below, we call this function with the argument `ascending=True`, to sort the output in ascending order, then display the first ten rows."
   ]
  },
  {
   "cell_type": "code",
   "execution_count": 17,
   "metadata": {},
   "outputs": [
    {
     "data": {
      "text/plain": [
       "Dramatic Entertainment                   1\n",
       "Operatic Farce                           1\n",
       "Masquerade                               1\n",
       "Grand Chinese Melo-Dramatic Spectacle    1\n",
       "Pantomimical Drama                       1\n",
       "Eastern Spectacles                       1\n",
       "Melo Dramatic Pantomime                  1\n",
       "Pantomimical Farce                       1\n",
       "Serious Play                             1\n",
       "Monopologue                              1\n",
       "Name: transcription, dtype: int64"
      ]
     },
     "execution_count": 17,
     "metadata": {},
     "output_type": "execute_result"
    }
   ],
   "source": [
    "counts = genre_df['transcription'].value_counts(ascending=True)\n",
    "counts[:10]"
   ]
  },
  {
   "cell_type": "markdown",
   "metadata": {},
   "source": [
    "In a future notebook we will find out how to visualise such outputs."
   ]
  },
  {
   "cell_type": "markdown",
   "metadata": {},
   "source": [
    "## Summary\n",
    "\n",
    "In this notebook, we found out how to load all of our results from the *In the Spotlight* crowdsourcing projects into a pandas dataframe. We then manipulated this dataframe to make the key data, such as the transcriptions, more easily accessible. We finished with a basic analysis of the genres discovered so far.\n",
    "\n",
    "The dataframe now contains one row per transcription, many of which will contain data about the same plays. To really begin to see the benefits of the programmatic analysis methods introduced here we need some way to link these transcriptions and view all information about a play in a single row. We can then begin to pull in additional data from other sources, such as the theatre names where the plays were performed, which are stored in the [IIIF](http://iiif.io/) manifests from which the original crowdsourcing tasks were built. With this additional information we can start to answer questions such as:\n",
    "\n",
    "- Are there any trends be found for the genres of plays performed at particular periods or across different regions?\n",
    "- How likely were plays to travel between regions?\n",
    "- Were some periods more innovative than others, with a greater variety of plays performed?\n",
    "\n",
    "In the notebook [*Building A Dataframe of Plays*](intro_to_visualising_libcrowds_data_using_python.ipynb) we will see how to build on the work started here to create another dataframe where each row contains the title, genre and date for a single play.\n",
    "\n",
    "Alternatively, for a basic introduction to producing visualisations using Python you might like to try the notebook [*An Introduction to Visualising LibCrowds Data Using Python*](intro_to_visualising_libcrowds_data_using_python.ipynb)."
   ]
  }
 ],
 "metadata": {
  "kernelspec": {
   "display_name": "Python 2",
   "language": "python",
   "name": "python2"
  },
  "language_info": {
   "codemirror_mode": {
    "name": "ipython",
    "version": 2
   },
   "file_extension": ".py",
   "mimetype": "text/x-python",
   "name": "python",
   "nbconvert_exporter": "python",
   "pygments_lexer": "ipython2",
   "version": "2.7.12"
  }
 },
 "nbformat": 4,
 "nbformat_minor": 2
}
