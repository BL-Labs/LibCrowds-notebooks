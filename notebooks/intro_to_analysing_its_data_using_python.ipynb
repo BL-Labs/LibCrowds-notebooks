{
 "cells": [
  {
   "cell_type": "markdown",
   "metadata": {},
   "source": [
    "# An Introduction to Analysing LibCrowds Results Data Using Python\n",
    "\n",
    "The purpose of this notebook is to introduce a key Python library, [pandas](https://pandas.pydata.org/), that can be used to manipulate and analyse LibCrowds results data.\n",
    "\n",
    "The pandas library provides access to high-performance data analysis tools via an accessible Python interface. We will use the library to load all of our *In the Spotlight* results into a structure called a dataframe. A dataframe is a two-dimensional data structure, similar to a spreadsheet, that accepts many different kinds of input. As everything is stored in memory, rather than on disk, the only limitation to this type of data structure is going to be the amount of RAM installed on the computer. However, for any modern computer this is unlikely to be an issue until we reach tens of millions of results.\n",
    "\n",
    "We begin by importing pandas."
   ]
  },
  {
   "cell_type": "code",
   "execution_count": 7,
   "metadata": {},
   "outputs": [],
   "source": [
    "import pandas"
   ]
  },
  {
   "cell_type": "markdown",
   "metadata": {},
   "source": [
    "## The dataset\n",
    "\n",
    "For this notebook, our input will be all of the performance data collected so far via the crowdsourcing projects presented on [*In the Spotlight*](https://www.libcrowds.com/collections/playbills). In a previous notebook we saw how these results are modelled in their raw form. However, for the purposes of this notebook we have converted this raw data into a table of performances, where each row contains the known data for a specific performance (e.g. title, date, genre and theatre). The way in which this was achieved is slightly too complex to introduce here but for those interested the scripts can be found in [this repository](https://github.com/LibCrowds/data).\n",
    "\n",
    "All we currently need to know about the code block below is that it loads our dataframe of performance data."
   ]
  },
  {
   "cell_type": "code",
   "execution_count": 8,
   "metadata": {},
   "outputs": [],
   "source": [
    "import os\n",
    "import sys\n",
    "module_path = os.path.abspath(os.path.join('..', 'data', 'scripts'))\n",
    "if module_path not in sys.path:\n",
    "    sys.path.append(module_path)\n",
    "from get_its_performances import get_performances_df\n",
    "df = get_performances_df()"
   ]
  },
  {
   "cell_type": "markdown",
   "metadata": {},
   "source": [
    "The [head](https://pandas.pydata.org/pandas-docs/stable/generated/pandas.DataFrame.head.html) function returns the first *n* rows of a dataset (defaults to 5); we can use this function to take a first glance at our dataframe."
   ]
  },
  {
   "cell_type": "code",
   "execution_count": 9,
   "metadata": {},
   "outputs": [
    {
     "data": {
      "text/html": [
       "<div>\n",
       "<style scoped>\n",
       "    .dataframe tbody tr th:only-of-type {\n",
       "        vertical-align: middle;\n",
       "    }\n",
       "\n",
       "    .dataframe tbody tr th {\n",
       "        vertical-align: top;\n",
       "    }\n",
       "\n",
       "    .dataframe thead th {\n",
       "        text-align: right;\n",
       "    }\n",
       "</style>\n",
       "<table border=\"1\" class=\"dataframe\">\n",
       "  <thead>\n",
       "    <tr style=\"text-align: right;\">\n",
       "      <th></th>\n",
       "      <th>title</th>\n",
       "      <th>date</th>\n",
       "      <th>genre</th>\n",
       "      <th>link</th>\n",
       "      <th>theatre</th>\n",
       "      <th>city</th>\n",
       "      <th>source</th>\n",
       "    </tr>\n",
       "  </thead>\n",
       "  <tbody>\n",
       "    <tr>\n",
       "      <th>0</th>\n",
       "      <td>The White Squall</td>\n",
       "      <td>1839-01-21</td>\n",
       "      <td>NaN</td>\n",
       "      <td>http://access.bl.uk/item/viewer/ark:/81055/vdc...</td>\n",
       "      <td>Miscellaneous Plymouth theatres</td>\n",
       "      <td>Plymouth</td>\n",
       "      <td>https://api.bl.uk/metadata/iiif/ark:/81055/vdc...</td>\n",
       "    </tr>\n",
       "    <tr>\n",
       "      <th>1</th>\n",
       "      <td>The Charming Polly! Or, Lucky and Unlucky Events</td>\n",
       "      <td>-04-09</td>\n",
       "      <td>Piece</td>\n",
       "      <td>http://access.bl.uk/item/viewer/ark:/81055/vdc...</td>\n",
       "      <td>Miscellaneous Plymouth theatres</td>\n",
       "      <td>Plymouth</td>\n",
       "      <td>https://api.bl.uk/metadata/iiif/ark:/81055/vdc...</td>\n",
       "    </tr>\n",
       "    <tr>\n",
       "      <th>2</th>\n",
       "      <td>The Charming Polly! Or, Lucky and Unlucky Events</td>\n",
       "      <td>-04-09</td>\n",
       "      <td>Piece</td>\n",
       "      <td>http://access.bl.uk/item/viewer/ark:/81055/vdc...</td>\n",
       "      <td>Miscellaneous Plymouth theatres</td>\n",
       "      <td>Plymouth</td>\n",
       "      <td>https://api.bl.uk/metadata/iiif/ark:/81055/vdc...</td>\n",
       "    </tr>\n",
       "    <tr>\n",
       "      <th>3</th>\n",
       "      <td>The Charming Polly! Or, Lucky and Unlucky Events</td>\n",
       "      <td>-04-09</td>\n",
       "      <td>Piece</td>\n",
       "      <td>http://access.bl.uk/item/viewer/ark:/81055/vdc...</td>\n",
       "      <td>Miscellaneous Plymouth theatres</td>\n",
       "      <td>Plymouth</td>\n",
       "      <td>https://api.bl.uk/metadata/iiif/ark:/81055/vdc...</td>\n",
       "    </tr>\n",
       "    <tr>\n",
       "      <th>4</th>\n",
       "      <td>Mademoiselle Flora Fabbri</td>\n",
       "      <td>NaN</td>\n",
       "      <td>NaN</td>\n",
       "      <td>http://access.bl.uk/item/viewer/ark:/81055/vdc...</td>\n",
       "      <td>Miscellaneous Plymouth theatres</td>\n",
       "      <td>Plymouth</td>\n",
       "      <td>https://api.bl.uk/metadata/iiif/ark:/81055/vdc...</td>\n",
       "    </tr>\n",
       "  </tbody>\n",
       "</table>\n",
       "</div>"
      ],
      "text/plain": [
       "                                              title        date  genre  \\\n",
       "0                                  The White Squall  1839-01-21    NaN   \n",
       "1  The Charming Polly! Or, Lucky and Unlucky Events      -04-09  Piece   \n",
       "2  The Charming Polly! Or, Lucky and Unlucky Events      -04-09  Piece   \n",
       "3  The Charming Polly! Or, Lucky and Unlucky Events      -04-09  Piece   \n",
       "4                         Mademoiselle Flora Fabbri         NaN    NaN   \n",
       "\n",
       "                                                link  \\\n",
       "0  http://access.bl.uk/item/viewer/ark:/81055/vdc...   \n",
       "1  http://access.bl.uk/item/viewer/ark:/81055/vdc...   \n",
       "2  http://access.bl.uk/item/viewer/ark:/81055/vdc...   \n",
       "3  http://access.bl.uk/item/viewer/ark:/81055/vdc...   \n",
       "4  http://access.bl.uk/item/viewer/ark:/81055/vdc...   \n",
       "\n",
       "                           theatre      city  \\\n",
       "0  Miscellaneous Plymouth theatres  Plymouth   \n",
       "1  Miscellaneous Plymouth theatres  Plymouth   \n",
       "2  Miscellaneous Plymouth theatres  Plymouth   \n",
       "3  Miscellaneous Plymouth theatres  Plymouth   \n",
       "4  Miscellaneous Plymouth theatres  Plymouth   \n",
       "\n",
       "                                              source  \n",
       "0  https://api.bl.uk/metadata/iiif/ark:/81055/vdc...  \n",
       "1  https://api.bl.uk/metadata/iiif/ark:/81055/vdc...  \n",
       "2  https://api.bl.uk/metadata/iiif/ark:/81055/vdc...  \n",
       "3  https://api.bl.uk/metadata/iiif/ark:/81055/vdc...  \n",
       "4  https://api.bl.uk/metadata/iiif/ark:/81055/vdc...  "
      ]
     },
     "execution_count": 9,
     "metadata": {},
     "output_type": "execute_result"
    }
   ],
   "source": [
    "df.head()"
   ]
  },
  {
   "cell_type": "markdown",
   "metadata": {},
   "source": [
    "The remainder of this notebook will introduce a few basic functions that we can use to begin analysing and manipulating our dataset."
   ]
  },
  {
   "cell_type": "markdown",
   "metadata": {},
   "source": [
    "## Summarising dataframes\n",
    "\n",
    "The [describe](https://pandas.pydata.org/pandas-docs/stable/generated/pandas.DataFrame.describe.html) function generates descriptive statistics that summarize the central tendency, dispersion and shape of a dataset’s distribution, excluding NaN values."
   ]
  },
  {
   "cell_type": "code",
   "execution_count": 10,
   "metadata": {},
   "outputs": [
    {
     "data": {
      "text/html": [
       "<div>\n",
       "<style scoped>\n",
       "    .dataframe tbody tr th:only-of-type {\n",
       "        vertical-align: middle;\n",
       "    }\n",
       "\n",
       "    .dataframe tbody tr th {\n",
       "        vertical-align: top;\n",
       "    }\n",
       "\n",
       "    .dataframe thead th {\n",
       "        text-align: right;\n",
       "    }\n",
       "</style>\n",
       "<table border=\"1\" class=\"dataframe\">\n",
       "  <thead>\n",
       "    <tr style=\"text-align: right;\">\n",
       "      <th></th>\n",
       "      <th>title</th>\n",
       "      <th>date</th>\n",
       "      <th>genre</th>\n",
       "      <th>link</th>\n",
       "      <th>theatre</th>\n",
       "      <th>city</th>\n",
       "      <th>source</th>\n",
       "    </tr>\n",
       "  </thead>\n",
       "  <tbody>\n",
       "    <tr>\n",
       "      <th>count</th>\n",
       "      <td>5399</td>\n",
       "      <td>1219</td>\n",
       "      <td>3802</td>\n",
       "      <td>5399</td>\n",
       "      <td>5399</td>\n",
       "      <td>5399</td>\n",
       "      <td>5399</td>\n",
       "    </tr>\n",
       "    <tr>\n",
       "      <th>unique</th>\n",
       "      <td>1244</td>\n",
       "      <td>238</td>\n",
       "      <td>156</td>\n",
       "      <td>1020</td>\n",
       "      <td>5</td>\n",
       "      <td>5</td>\n",
       "      <td>1020</td>\n",
       "    </tr>\n",
       "    <tr>\n",
       "      <th>top</th>\n",
       "      <td>Pizarro; Or, the Spaniards in Peru</td>\n",
       "      <td>-03-04</td>\n",
       "      <td>Farce</td>\n",
       "      <td>http://access.bl.uk/item/viewer/ark:/81055/vdc...</td>\n",
       "      <td>Miscellaneous Plymouth theatres</td>\n",
       "      <td>Plymouth</td>\n",
       "      <td>https://api.bl.uk/metadata/iiif/ark:/81055/vdc...</td>\n",
       "    </tr>\n",
       "    <tr>\n",
       "      <th>freq</th>\n",
       "      <td>45</td>\n",
       "      <td>29</td>\n",
       "      <td>595</td>\n",
       "      <td>42</td>\n",
       "      <td>3044</td>\n",
       "      <td>3044</td>\n",
       "      <td>42</td>\n",
       "    </tr>\n",
       "  </tbody>\n",
       "</table>\n",
       "</div>"
      ],
      "text/plain": [
       "                                     title    date  genre  \\\n",
       "count                                 5399    1219   3802   \n",
       "unique                                1244     238    156   \n",
       "top     Pizarro; Or, the Spaniards in Peru  -03-04  Farce   \n",
       "freq                                    45      29    595   \n",
       "\n",
       "                                                     link  \\\n",
       "count                                                5399   \n",
       "unique                                               1020   \n",
       "top     http://access.bl.uk/item/viewer/ark:/81055/vdc...   \n",
       "freq                                                   42   \n",
       "\n",
       "                                theatre      city  \\\n",
       "count                              5399      5399   \n",
       "unique                                5         5   \n",
       "top     Miscellaneous Plymouth theatres  Plymouth   \n",
       "freq                               3044      3044   \n",
       "\n",
       "                                                   source  \n",
       "count                                                5399  \n",
       "unique                                               1020  \n",
       "top     https://api.bl.uk/metadata/iiif/ark:/81055/vdc...  \n",
       "freq                                                   42  "
      ]
     },
     "execution_count": 10,
     "metadata": {},
     "output_type": "execute_result"
    }
   ],
   "source": [
    "df.describe()"
   ]
  },
  {
   "cell_type": "markdown",
   "metadata": {},
   "source": [
    "This simple function already presents some interesting results. At the time of writing, we can see that we have over 150 unique genres. \n",
    "\n",
    "We might be curious about what some of the more unusual genres are. To find them, we can use the [value_counts](https://pandas.pydata.org/pandas-docs/stable/generated/pandas.Series.value_counts.html) function, which returns an object containing counts of unique values. Below, we call this function with the argument `ascending=True`, to sort the output in ascending order."
   ]
  },
  {
   "cell_type": "code",
   "execution_count": 15,
   "metadata": {},
   "outputs": [],
   "source": [
    "counts = df.genre.value_counts(ascending=True)"
   ]
  },
  {
   "cell_type": "markdown",
   "metadata": {},
   "source": [
    "We can then use then run the following command to display the first ten rows."
   ]
  },
  {
   "cell_type": "code",
   "execution_count": 16,
   "metadata": {},
   "outputs": [
    {
     "data": {
      "text/plain": [
       "Concert                         1\n",
       "Pas Suel                        1\n",
       "Grand Melo-Drame                1\n",
       "Christmas Burlesque             1\n",
       "Pettite Farce                   1\n",
       "Grand Historical Play           1\n",
       "Divertisement                   1\n",
       "Equestrian Drama                1\n",
       "Operetta                        1\n",
       "Harlequinade Comic Pantomime    1\n",
       "Name: genre, dtype: int64"
      ]
     },
     "execution_count": 16,
     "metadata": {},
     "output_type": "execute_result"
    }
   ],
   "source": [
    "counts[:10]"
   ]
  },
  {
   "cell_type": "markdown",
   "metadata": {},
   "source": [
    "To display the top ten genres we could just change the `ascending` argument above to `False` (or remove it, as `False` is the default)."
   ]
  },
  {
   "cell_type": "markdown",
   "metadata": {},
   "source": [
    "## Summary\n",
    "\n",
    "In this notebook, we found out how to load all of our performance data from the *In the Spotlight* crowdsourcing projects into a pandas dataframe. We then run some functions to perform a basic anaysis of this dataframe.\n",
    "\n",
    "For a basic introduction producing visualisations of this data using Python see [*An Introduction to Visualising In the Spotlight Data Using Python*](intro_to_visualising_its_data_using_python.ipynb)."
   ]
  },
  {
   "cell_type": "code",
   "execution_count": null,
   "metadata": {},
   "outputs": [],
   "source": []
  }
 ],
 "metadata": {
  "kernelspec": {
   "display_name": "Python 3",
   "language": "python",
   "name": "python3"
  },
  "language_info": {
   "codemirror_mode": {
    "name": "ipython",
    "version": 3
   },
   "file_extension": ".py",
   "mimetype": "text/x-python",
   "name": "python",
   "nbconvert_exporter": "python",
   "pygments_lexer": "ipython3",
   "version": "3.6.5"
  }
 },
 "nbformat": 4,
 "nbformat_minor": 2
}
