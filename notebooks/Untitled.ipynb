{
 "cells": [
  {
   "cell_type": "markdown",
   "metadata": {},
   "source": []
  },
  {
   "cell_type": "code",
   "execution_count": 111,
   "metadata": {},
   "outputs": [],
   "source": [
    "\n",
    "import pandas\n",
    "import plotly"
   ]
  },
  {
   "cell_type": "markdown",
   "metadata": {},
   "source": [
    "## The dataset"
   ]
  },
  {
   "cell_type": "code",
   "execution_count": 112,
   "metadata": {},
   "outputs": [],
   "source": [
    "import os\n",
    "import sys\n",
    "module_path = os.path.abspath(os.path.join('..', 'data', 'scripts'))\n",
    "from get_its_performances import get_performances_df\n",
    "if module_path not in sys.path:\n",
    "    sys.path.append(module_path)\n",
    "df = get_performances_df()"
   ]
  },
  {
   "cell_type": "code",
   "execution_count": 113,
   "metadata": {},
   "outputs": [],
   "source": []
  },
  {
   "cell_type": "code",
   "execution_count": 114,
   "metadata": {},
   "outputs": [],
   "source": [
    "df = get_performances_df()"
   ]
  },
  {
   "cell_type": "code",
   "execution_count": 115,
   "metadata": {},
   "outputs": [
    {
     "data": {
      "text/html": [
       "<div>\n",
       "<style scoped>\n",
       "    .dataframe tbody tr th:only-of-type {\n",
       "        vertical-align: middle;\n",
       "    }\n",
       "\n",
       "    .dataframe tbody tr th {\n",
       "        vertical-align: top;\n",
       "    }\n",
       "\n",
       "    .dataframe thead th {\n",
       "        text-align: right;\n",
       "    }\n",
       "</style>\n",
       "<table border=\"1\" class=\"dataframe\">\n",
       "  <thead>\n",
       "    <tr style=\"text-align: right;\">\n",
       "      <th></th>\n",
       "      <th>title</th>\n",
       "      <th>date</th>\n",
       "      <th>genre</th>\n",
       "      <th>link</th>\n",
       "      <th>theatre</th>\n",
       "      <th>city</th>\n",
       "      <th>source</th>\n",
       "    </tr>\n",
       "  </thead>\n",
       "  <tbody>\n",
       "    <tr>\n",
       "      <th>0</th>\n",
       "      <td>Invincibles; Ou, Les Femmes Soldats</td>\n",
       "      <td>1829-03-16</td>\n",
       "      <td>NaN</td>\n",
       "      <td>http://access.bl.uk/item/viewer/ark:/81055/vdc...</td>\n",
       "      <td>Miscellaneous Plymouth theatres</td>\n",
       "      <td>Plymouth</td>\n",
       "      <td>https://api.bl.uk/metadata/iiif/ark:/81055/vdc...</td>\n",
       "    </tr>\n",
       "    <tr>\n",
       "      <th>1</th>\n",
       "      <td>Invincibles; Ou, Les Femmes Soldats</td>\n",
       "      <td>1829-03-16</td>\n",
       "      <td>NaN</td>\n",
       "      <td>http://access.bl.uk/item/viewer/ark:/81055/vdc...</td>\n",
       "      <td>Miscellaneous Plymouth theatres</td>\n",
       "      <td>Plymouth</td>\n",
       "      <td>https://api.bl.uk/metadata/iiif/ark:/81055/vdc...</td>\n",
       "    </tr>\n",
       "    <tr>\n",
       "      <th>2</th>\n",
       "      <td>Heir at Law</td>\n",
       "      <td>1828-02-06</td>\n",
       "      <td>Comedy</td>\n",
       "      <td>http://access.bl.uk/item/viewer/ark:/81055/vdc...</td>\n",
       "      <td>Miscellaneous Plymouth theatres</td>\n",
       "      <td>Plymouth</td>\n",
       "      <td>https://api.bl.uk/metadata/iiif/ark:/81055/vdc...</td>\n",
       "    </tr>\n",
       "    <tr>\n",
       "      <th>3</th>\n",
       "      <td>Heir at Law</td>\n",
       "      <td>1828-02-06</td>\n",
       "      <td>Comedy</td>\n",
       "      <td>http://access.bl.uk/item/viewer/ark:/81055/vdc...</td>\n",
       "      <td>Miscellaneous Plymouth theatres</td>\n",
       "      <td>Plymouth</td>\n",
       "      <td>https://api.bl.uk/metadata/iiif/ark:/81055/vdc...</td>\n",
       "    </tr>\n",
       "    <tr>\n",
       "      <th>4</th>\n",
       "      <td>Heir at Law</td>\n",
       "      <td>1828-02-06</td>\n",
       "      <td>Comedy</td>\n",
       "      <td>http://access.bl.uk/item/viewer/ark:/81055/vdc...</td>\n",
       "      <td>Miscellaneous Plymouth theatres</td>\n",
       "      <td>Plymouth</td>\n",
       "      <td>https://api.bl.uk/metadata/iiif/ark:/81055/vdc...</td>\n",
       "    </tr>\n",
       "  </tbody>\n",
       "</table>\n",
       "</div>"
      ],
      "text/plain": [
       "                                 title        date   genre  \\\n",
       "0  Invincibles; Ou, Les Femmes Soldats  1829-03-16     NaN   \n",
       "1  Invincibles; Ou, Les Femmes Soldats  1829-03-16     NaN   \n",
       "2                          Heir at Law  1828-02-06  Comedy   \n",
       "3                          Heir at Law  1828-02-06  Comedy   \n",
       "4                          Heir at Law  1828-02-06  Comedy   \n",
       "\n",
       "                                                link  \\\n",
       "0  http://access.bl.uk/item/viewer/ark:/81055/vdc...   \n",
       "1  http://access.bl.uk/item/viewer/ark:/81055/vdc...   \n",
       "2  http://access.bl.uk/item/viewer/ark:/81055/vdc...   \n",
       "3  http://access.bl.uk/item/viewer/ark:/81055/vdc...   \n",
       "4  http://access.bl.uk/item/viewer/ark:/81055/vdc...   \n",
       "\n",
       "                           theatre      city  \\\n",
       "0  Miscellaneous Plymouth theatres  Plymouth   \n",
       "1  Miscellaneous Plymouth theatres  Plymouth   \n",
       "2  Miscellaneous Plymouth theatres  Plymouth   \n",
       "3  Miscellaneous Plymouth theatres  Plymouth   \n",
       "4  Miscellaneous Plymouth theatres  Plymouth   \n",
       "\n",
       "                                              source  \n",
       "0  https://api.bl.uk/metadata/iiif/ark:/81055/vdc...  \n",
       "1  https://api.bl.uk/metadata/iiif/ark:/81055/vdc...  \n",
       "2  https://api.bl.uk/metadata/iiif/ark:/81055/vdc...  \n",
       "3  https://api.bl.uk/metadata/iiif/ark:/81055/vdc...  \n",
       "4  https://api.bl.uk/metadata/iiif/ark:/81055/vdc...  "
      ]
     },
     "execution_count": 115,
     "metadata": {},
     "output_type": "execute_result"
    }
   ],
   "source": [
    "df.head()"
   ]
  },
  {
   "cell_type": "markdown",
   "metadata": {},
   "source": [
    "## Entity counts"
   ]
  },
  {
   "cell_type": "code",
   "execution_count": 130,
   "metadata": {},
   "outputs": [],
   "source": [
    "entity = 'genre'\n",
    "tmp_df = df[entity].value_counts()\n",
    "labels = tmp_df[:limit].index.tolist()\n",
    "values = tmp_df[:limit].tolist()"
   ]
  },
  {
   "cell_type": "code",
   "execution_count": 131,
   "metadata": {},
   "outputs": [
    {
     "data": {
      "application/vnd.jupyter.widget-view+json": {
       "model_id": "4cfbb08fbe464f4fb1de062385a37027",
       "version_major": 2,
       "version_minor": 0
      },
      "text/plain": [
       "FigureWidget({\n",
       "    'data': [{'labels': [Farce, Comedy, Drama, Interlude, Play, Tragedy, Musical\n",
       "              …"
      ]
     },
     "metadata": {},
     "output_type": "display_data"
    }
   ],
   "source": [
    "f = plotly.graph_objs.FigureWidget()\n",
    "f.add_pie(labels=labels, values=values)\n",
    "f"
   ]
  },
  {
   "cell_type": "code",
   "execution_count": 118,
   "metadata": {},
   "outputs": [
    {
     "data": {
      "application/vnd.jupyter.widget-view+json": {
       "model_id": "3b4b7d2327f64ee19b986224529356db",
       "version_major": 2,
       "version_minor": 0
      },
      "text/plain": [
       "FigureWidget({\n",
       "    'data': [{'type': 'bar',\n",
       "              'uid': '39ebb1e2-890c-11e8-bbed-5ce0c5750c96',\n",
       "     …"
      ]
     },
     "metadata": {},
     "output_type": "display_data"
    }
   ],
   "source": [
    "f = plotly.graph_objs.FigureWidget()\n",
    "f.add_bar(x=labels, y=values)\n",
    "f"
   ]
  },
  {
   "cell_type": "markdown",
   "metadata": {},
   "source": []
  },
  {
   "cell_type": "code",
   "execution_count": 119,
   "metadata": {},
   "outputs": [],
   "source": [
    "tmp_df = df[df['date'].str.contains('\\d{4}-\\d{2}-\\d{2}', na=False)]\n",
    "tmp_df = tmp_df.groupby(['date', entity]).size().reset_index(name='counts')"
   ]
  },
  {
   "cell_type": "code",
   "execution_count": 120,
   "metadata": {},
   "outputs": [
    {
     "name": "stderr",
     "output_type": "stream",
     "text": [
      "c:\\github\\notebooks\\env\\lib\\site-packages\\ipykernel_launcher.py:5: SettingWithCopyWarning:\n",
      "\n",
      "\n",
      "A value is trying to be set on a copy of a slice from a DataFrame\n",
      "\n",
      "See the caveats in the documentation: http://pandas.pydata.org/pandas-docs/stable/indexing.html#indexing-view-versus-copy\n",
      "\n"
     ]
    }
   ],
   "source": [
    "top_values = tmp_df[entity][:limit].tolist()\n",
    "traces = []\n",
    "for value in top_values:\n",
    "    line_df = tmp_df[tmp_df[entity] == value]\n",
    "    line_df.sort_values(by='counts', inplace=True, ascending=False)\n",
    "    traces.append({\n",
    "        'x': tmp_df['date'].tolist(),\n",
    "        'y': tmp_df.index.tolist()\n",
    "    })"
   ]
  },
  {
   "cell_type": "code",
   "execution_count": 121,
   "metadata": {},
   "outputs": [
    {
     "data": {
      "application/vnd.jupyter.widget-view+json": {
       "model_id": "7647b0728af44444895108748b4a0ca8",
       "version_major": 2,
       "version_minor": 0
      },
      "text/plain": [
       "FigureWidget({\n",
       "    'data': [{'type': 'scatter',\n",
       "              'uid': '3ac15c50-890c-11e8-bae0-5ce0c5750c96',\n",
       " …"
      ]
     },
     "metadata": {},
     "output_type": "display_data"
    }
   ],
   "source": [
    "f = plotly.graph_objs.FigureWidget()\n",
    "for trace in traces:\n",
    "    f.add_scatter(x=trace['x'], y=trace['y'])\n",
    "f"
   ]
  },
  {
   "cell_type": "code",
   "execution_count": null,
   "metadata": {},
   "outputs": [],
   "source": []
  }
 ],
 "metadata": {
  "kernelspec": {
   "display_name": "Python 3",
   "language": "python",
   "name": "python3"
  },
  "language_info": {
   "codemirror_mode": {
    "name": "ipython",
    "version": 3
   },
   "file_extension": ".py",
   "mimetype": "text/x-python",
   "name": "python",
   "nbconvert_exporter": "python",
   "pygments_lexer": "ipython3",
   "version": "3.7.0"
  }
 },
 "nbformat": 4,
 "nbformat_minor": 2
}
