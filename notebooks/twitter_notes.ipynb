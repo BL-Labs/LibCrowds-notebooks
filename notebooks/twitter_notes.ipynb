{
 "cells": [
  {
   "cell_type": "code",
   "execution_count": 41,
   "metadata": {},
   "outputs": [],
   "source": [
    "import pandas\n",
    "import datetime\n",
    "\n",
    "df = pandas.read_json('../data/performance_titles_dates.gz', compression='gzip')\n"
   ]
  },
  {
   "cell_type": "markdown",
   "metadata": {},
   "source": [
    "Reminder of what our dataframe looks like."
   ]
  },
  {
   "cell_type": "code",
   "execution_count": 42,
   "metadata": {},
   "outputs": [
    {
     "data": {
      "text/html": [
       "<div>\n",
       "<style scoped>\n",
       "    .dataframe tbody tr th:only-of-type {\n",
       "        vertical-align: middle;\n",
       "    }\n",
       "\n",
       "    .dataframe tbody tr th {\n",
       "        vertical-align: top;\n",
       "    }\n",
       "\n",
       "    .dataframe thead th {\n",
       "        text-align: right;\n",
       "    }\n",
       "</style>\n",
       "<table border=\"1\" class=\"dataframe\">\n",
       "  <thead>\n",
       "    <tr style=\"text-align: right;\">\n",
       "      <th></th>\n",
       "      <th>date</th>\n",
       "      <th>source</th>\n",
       "      <th>title</th>\n",
       "      <th>title_target</th>\n",
       "    </tr>\n",
       "  </thead>\n",
       "  <tbody>\n",
       "    <tr>\n",
       "      <th>0</th>\n",
       "      <td>1828-03-21 00:00:00</td>\n",
       "      <td>https://api.bl.uk/metadata/iiif/ark:/81055/vdc...</td>\n",
       "      <td>The Slave</td>\n",
       "      <td>{u'source': u'https://api.bl.uk/metadata/iiif/...</td>\n",
       "    </tr>\n",
       "    <tr>\n",
       "      <th>1</th>\n",
       "      <td>1829-12-03 00:00:00</td>\n",
       "      <td>https://api.bl.uk/metadata/iiif/ark:/81055/vdc...</td>\n",
       "      <td>Black-Eyed Susan</td>\n",
       "      <td>{u'source': u'https://api.bl.uk/metadata/iiif/...</td>\n",
       "    </tr>\n",
       "    <tr>\n",
       "      <th>10</th>\n",
       "      <td>1828-01-03 00:00:00</td>\n",
       "      <td>https://api.bl.uk/metadata/iiif/ark:/81055/vdc...</td>\n",
       "      <td>Marriage of Figaro</td>\n",
       "      <td>{u'source': u'https://api.bl.uk/metadata/iiif/...</td>\n",
       "    </tr>\n",
       "    <tr>\n",
       "      <th>100</th>\n",
       "      <td>1839-02-26 00:00:00</td>\n",
       "      <td>https://api.bl.uk/metadata/iiif/ark:/81055/vdc...</td>\n",
       "      <td>Jane Shore</td>\n",
       "      <td>{u'source': u'https://api.bl.uk/metadata/iiif/...</td>\n",
       "    </tr>\n",
       "    <tr>\n",
       "      <th>101</th>\n",
       "      <td>1839-02-26 00:00:00</td>\n",
       "      <td>https://api.bl.uk/metadata/iiif/ark:/81055/vdc...</td>\n",
       "      <td>Two Gregories</td>\n",
       "      <td>{u'source': u'https://api.bl.uk/metadata/iiif/...</td>\n",
       "    </tr>\n",
       "  </tbody>\n",
       "</table>\n",
       "</div>"
      ],
      "text/plain": [
       "                   date                                             source  \\\n",
       "0   1828-03-21 00:00:00  https://api.bl.uk/metadata/iiif/ark:/81055/vdc...   \n",
       "1   1829-12-03 00:00:00  https://api.bl.uk/metadata/iiif/ark:/81055/vdc...   \n",
       "10  1828-01-03 00:00:00  https://api.bl.uk/metadata/iiif/ark:/81055/vdc...   \n",
       "100 1839-02-26 00:00:00  https://api.bl.uk/metadata/iiif/ark:/81055/vdc...   \n",
       "101 1839-02-26 00:00:00  https://api.bl.uk/metadata/iiif/ark:/81055/vdc...   \n",
       "\n",
       "                  title                                       title_target  \n",
       "0             The Slave  {u'source': u'https://api.bl.uk/metadata/iiif/...  \n",
       "1      Black-Eyed Susan  {u'source': u'https://api.bl.uk/metadata/iiif/...  \n",
       "10   Marriage of Figaro  {u'source': u'https://api.bl.uk/metadata/iiif/...  \n",
       "100          Jane Shore  {u'source': u'https://api.bl.uk/metadata/iiif/...  \n",
       "101       Two Gregories  {u'source': u'https://api.bl.uk/metadata/iiif/...  "
      ]
     },
     "execution_count": 42,
     "metadata": {},
     "output_type": "execute_result"
    }
   ],
   "source": [
    "df.head()"
   ]
  },
  {
   "cell_type": "markdown",
   "metadata": {},
   "source": [
    "Get todays day and month."
   ]
  },
  {
   "cell_type": "code",
   "execution_count": 43,
   "metadata": {},
   "outputs": [],
   "source": [
    "today = datetime.datetime.now()\n",
    "day = today.day\n",
    "month = today.month"
   ]
  },
  {
   "cell_type": "code",
   "execution_count": 55,
   "metadata": {},
   "outputs": [
    {
     "data": {
      "text/html": [
       "<div>\n",
       "<style scoped>\n",
       "    .dataframe tbody tr th:only-of-type {\n",
       "        vertical-align: middle;\n",
       "    }\n",
       "\n",
       "    .dataframe tbody tr th {\n",
       "        vertical-align: top;\n",
       "    }\n",
       "\n",
       "    .dataframe thead th {\n",
       "        text-align: right;\n",
       "    }\n",
       "</style>\n",
       "<table border=\"1\" class=\"dataframe\">\n",
       "  <thead>\n",
       "    <tr style=\"text-align: right;\">\n",
       "      <th></th>\n",
       "      <th>date</th>\n",
       "      <th>source</th>\n",
       "      <th>title</th>\n",
       "      <th>title_target</th>\n",
       "    </tr>\n",
       "  </thead>\n",
       "  <tbody>\n",
       "  </tbody>\n",
       "</table>\n",
       "</div>"
      ],
      "text/plain": [
       "Empty DataFrame\n",
       "Columns: [date, source, title, title_target]\n",
       "Index: []"
      ]
     },
     "execution_count": 55,
     "metadata": {},
     "output_type": "execute_result"
    }
   ],
   "source": [
    "df['date'] = pandas.to_datetime(df['date'])\n",
    "df.loc[(df['date'].dt.day == day) & (df['date'].dt.month == 06)]\n",
    "\n",
    "# df.loc[df.date.month == 12]\n",
    "# on_this_day_df = df[df['date'].str.endswith(day)]"
   ]
  },
  {
   "cell_type": "code",
   "execution_count": null,
   "metadata": {},
   "outputs": [],
   "source": []
  },
  {
   "cell_type": "code",
   "execution_count": null,
   "metadata": {},
   "outputs": [],
   "source": []
  }
 ],
 "metadata": {
  "kernelspec": {
   "display_name": "Python 2",
   "language": "python",
   "name": "python2"
  },
  "language_info": {
   "codemirror_mode": {
    "name": "ipython",
    "version": 2
   },
   "file_extension": ".py",
   "mimetype": "text/x-python",
   "name": "python",
   "nbconvert_exporter": "python",
   "pygments_lexer": "ipython2",
   "version": "2.7.13"
  }
 },
 "nbformat": 4,
 "nbformat_minor": 2
}
