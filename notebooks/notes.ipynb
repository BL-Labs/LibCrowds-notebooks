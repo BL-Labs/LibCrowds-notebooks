{
 "cells": [
  {
   "cell_type": "markdown",
   "metadata": {},
   "source": [
    "## Building a Database of Performances\n",
    "\n",
    "This one is likely to get a bit more complex."
   ]
  },
  {
   "cell_type": "code",
   "execution_count": 50,
   "metadata": {},
   "outputs": [],
   "source": [
    "import pandas"
   ]
  },
  {
   "cell_type": "code",
   "execution_count": null,
   "metadata": {},
   "outputs": [],
   "source": []
  },
  {
   "cell_type": "code",
   "execution_count": 51,
   "metadata": {},
   "outputs": [],
   "source": [
    "df = pandas.read_json('../data/transcriptions.gz', compression='gzip')"
   ]
  },
  {
   "cell_type": "code",
   "execution_count": 52,
   "metadata": {},
   "outputs": [],
   "source": [
    "def get_source(target):\n",
    "    if isinstance(target, dict):\n",
    "        return target['source']\n",
    "    else:\n",
    "        return target"
   ]
  },
  {
   "cell_type": "markdown",
   "metadata": {},
   "source": [
    "Remove the columns we are no longer interested in."
   ]
  },
  {
   "cell_type": "code",
   "execution_count": 53,
   "metadata": {},
   "outputs": [],
   "source": [
    "df = df[['target', 'tag', 'transcription']]"
   ]
  },
  {
   "cell_type": "markdown",
   "metadata": {},
   "source": [
    "Start with the titles, as these will be our root element."
   ]
  },
  {
   "cell_type": "code",
   "execution_count": 54,
   "metadata": {},
   "outputs": [],
   "source": [
    "def get_tag_df(full_df, tag):\n",
    "    tag_df = full_df[df['tag'] == tag]\n",
    "    tag_df = tag_df.rename(columns={'transcription': tag})\n",
    "    tag_df = tag_df.drop('tag', axis=1)\n",
    "    return tag_df"
   ]
  },
  {
   "cell_type": "code",
   "execution_count": 55,
   "metadata": {},
   "outputs": [
    {
     "data": {
      "text/html": [
       "<div>\n",
       "<style scoped>\n",
       "    .dataframe tbody tr th:only-of-type {\n",
       "        vertical-align: middle;\n",
       "    }\n",
       "\n",
       "    .dataframe tbody tr th {\n",
       "        vertical-align: top;\n",
       "    }\n",
       "\n",
       "    .dataframe thead th {\n",
       "        text-align: right;\n",
       "    }\n",
       "</style>\n",
       "<table border=\"1\" class=\"dataframe\">\n",
       "  <thead>\n",
       "    <tr style=\"text-align: right;\">\n",
       "      <th></th>\n",
       "      <th>target</th>\n",
       "      <th>title</th>\n",
       "    </tr>\n",
       "  </thead>\n",
       "  <tbody>\n",
       "    <tr>\n",
       "      <th>10025</th>\n",
       "      <td>{u'source': u'https://api.bl.uk/metadata/iiif/...</td>\n",
       "      <td>The Slave</td>\n",
       "    </tr>\n",
       "    <tr>\n",
       "      <th>10026</th>\n",
       "      <td>{u'source': u'https://api.bl.uk/metadata/iiif/...</td>\n",
       "      <td>Black-Eyed Susan</td>\n",
       "    </tr>\n",
       "    <tr>\n",
       "      <th>10028</th>\n",
       "      <td>{u'source': u'https://api.bl.uk/metadata/iiif/...</td>\n",
       "      <td>A Day After the Fair</td>\n",
       "    </tr>\n",
       "    <tr>\n",
       "      <th>10029</th>\n",
       "      <td>{u'source': u'https://api.bl.uk/metadata/iiif/...</td>\n",
       "      <td>Victorine</td>\n",
       "    </tr>\n",
       "    <tr>\n",
       "      <th>10030</th>\n",
       "      <td>{u'source': u'https://api.bl.uk/metadata/iiif/...</td>\n",
       "      <td>Twas I</td>\n",
       "    </tr>\n",
       "  </tbody>\n",
       "</table>\n",
       "</div>"
      ],
      "text/plain": [
       "                                                  target                 title\n",
       "10025  {u'source': u'https://api.bl.uk/metadata/iiif/...             The Slave\n",
       "10026  {u'source': u'https://api.bl.uk/metadata/iiif/...      Black-Eyed Susan\n",
       "10028  {u'source': u'https://api.bl.uk/metadata/iiif/...  A Day After the Fair\n",
       "10029  {u'source': u'https://api.bl.uk/metadata/iiif/...             Victorine\n",
       "10030  {u'source': u'https://api.bl.uk/metadata/iiif/...                Twas I"
      ]
     },
     "execution_count": 55,
     "metadata": {},
     "output_type": "execute_result"
    }
   ],
   "source": [
    "plays_df = get_tag_df(df, 'title')\n",
    "plays_df.head()"
   ]
  },
  {
   "cell_type": "code",
   "execution_count": 56,
   "metadata": {},
   "outputs": [],
   "source": [
    "plays_df['source'] = plays_df['target'].apply(get_source)"
   ]
  },
  {
   "cell_type": "code",
   "execution_count": 57,
   "metadata": {},
   "outputs": [],
   "source": [
    "dates_df = get_tag_df(df, 'date')\n",
    "dates_df['source'] = dates_df['target'].apply(get_source)"
   ]
  },
  {
   "cell_type": "code",
   "execution_count": 58,
   "metadata": {},
   "outputs": [],
   "source": [
    "plays_df = plays_df.merge(dates_df, on='source', how='left')"
   ]
  },
  {
   "cell_type": "markdown",
   "metadata": {},
   "source": [
    "Rename `target_x` to `title_target`"
   ]
  },
  {
   "cell_type": "code",
   "execution_count": 59,
   "metadata": {},
   "outputs": [],
   "source": [
    "plays_df = plays_df.rename(columns={'target_x': 'title_target'})"
   ]
  },
  {
   "cell_type": "markdown",
   "metadata": {},
   "source": [
    "Get the columns we are now interested in."
   ]
  },
  {
   "cell_type": "code",
   "execution_count": 60,
   "metadata": {},
   "outputs": [],
   "source": [
    "plays_df = plays_df[['title', 'date', 'source', 'title_target']]"
   ]
  },
  {
   "cell_type": "markdown",
   "metadata": {},
   "source": [
    "Drop any performaces without a date, we can come back and run this again later when we have that data."
   ]
  },
  {
   "cell_type": "code",
   "execution_count": 61,
   "metadata": {},
   "outputs": [
    {
     "data": {
      "text/html": [
       "<div>\n",
       "<style scoped>\n",
       "    .dataframe tbody tr th:only-of-type {\n",
       "        vertical-align: middle;\n",
       "    }\n",
       "\n",
       "    .dataframe tbody tr th {\n",
       "        vertical-align: top;\n",
       "    }\n",
       "\n",
       "    .dataframe thead th {\n",
       "        text-align: right;\n",
       "    }\n",
       "</style>\n",
       "<table border=\"1\" class=\"dataframe\">\n",
       "  <thead>\n",
       "    <tr style=\"text-align: right;\">\n",
       "      <th></th>\n",
       "      <th>title</th>\n",
       "      <th>date</th>\n",
       "      <th>source</th>\n",
       "      <th>title_target</th>\n",
       "    </tr>\n",
       "  </thead>\n",
       "  <tbody>\n",
       "    <tr>\n",
       "      <th>0</th>\n",
       "      <td>The Slave</td>\n",
       "      <td>1828-03-21</td>\n",
       "      <td>https://api.bl.uk/metadata/iiif/ark:/81055/vdc...</td>\n",
       "      <td>{u'source': u'https://api.bl.uk/metadata/iiif/...</td>\n",
       "    </tr>\n",
       "    <tr>\n",
       "      <th>1</th>\n",
       "      <td>Black-Eyed Susan</td>\n",
       "      <td>1829-12-03</td>\n",
       "      <td>https://api.bl.uk/metadata/iiif/ark:/81055/vdc...</td>\n",
       "      <td>{u'source': u'https://api.bl.uk/metadata/iiif/...</td>\n",
       "    </tr>\n",
       "    <tr>\n",
       "      <th>2</th>\n",
       "      <td>A Day After the Fair</td>\n",
       "      <td>1829-12-03</td>\n",
       "      <td>https://api.bl.uk/metadata/iiif/ark:/81055/vdc...</td>\n",
       "      <td>{u'source': u'https://api.bl.uk/metadata/iiif/...</td>\n",
       "    </tr>\n",
       "    <tr>\n",
       "      <th>3</th>\n",
       "      <td>Victorine</td>\n",
       "      <td>1833-12-31</td>\n",
       "      <td>https://api.bl.uk/metadata/iiif/ark:/81055/vdc...</td>\n",
       "      <td>{u'source': u'https://api.bl.uk/metadata/iiif/...</td>\n",
       "    </tr>\n",
       "    <tr>\n",
       "      <th>4</th>\n",
       "      <td>Twas I</td>\n",
       "      <td>1826-11-28</td>\n",
       "      <td>https://api.bl.uk/metadata/iiif/ark:/81055/vdc...</td>\n",
       "      <td>{u'source': u'https://api.bl.uk/metadata/iiif/...</td>\n",
       "    </tr>\n",
       "  </tbody>\n",
       "</table>\n",
       "</div>"
      ],
      "text/plain": [
       "                  title        date  \\\n",
       "0             The Slave  1828-03-21   \n",
       "1      Black-Eyed Susan  1829-12-03   \n",
       "2  A Day After the Fair  1829-12-03   \n",
       "3             Victorine  1833-12-31   \n",
       "4                Twas I  1826-11-28   \n",
       "\n",
       "                                              source  \\\n",
       "0  https://api.bl.uk/metadata/iiif/ark:/81055/vdc...   \n",
       "1  https://api.bl.uk/metadata/iiif/ark:/81055/vdc...   \n",
       "2  https://api.bl.uk/metadata/iiif/ark:/81055/vdc...   \n",
       "3  https://api.bl.uk/metadata/iiif/ark:/81055/vdc...   \n",
       "4  https://api.bl.uk/metadata/iiif/ark:/81055/vdc...   \n",
       "\n",
       "                                        title_target  \n",
       "0  {u'source': u'https://api.bl.uk/metadata/iiif/...  \n",
       "1  {u'source': u'https://api.bl.uk/metadata/iiif/...  \n",
       "2  {u'source': u'https://api.bl.uk/metadata/iiif/...  \n",
       "3  {u'source': u'https://api.bl.uk/metadata/iiif/...  \n",
       "4  {u'source': u'https://api.bl.uk/metadata/iiif/...  "
      ]
     },
     "execution_count": 61,
     "metadata": {},
     "output_type": "execute_result"
    }
   ],
   "source": [
    "plays_df = plays_df.dropna(subset=['date'])\n",
    "plays_df.head()"
   ]
  },
  {
   "cell_type": "markdown",
   "metadata": {},
   "source": [
    "Also, for now drop any with a partial date. Again, we'll come back and get them later, once the decision has been made about how to handle them."
   ]
  },
  {
   "cell_type": "code",
   "execution_count": 62,
   "metadata": {},
   "outputs": [],
   "source": [
    "plays_df = plays_df[plays_df['date'].str.contains('\\d{4}-\\d{2}-\\d{2}')]"
   ]
  },
  {
   "cell_type": "code",
   "execution_count": 63,
   "metadata": {},
   "outputs": [
    {
     "data": {
      "text/html": [
       "<div>\n",
       "<style scoped>\n",
       "    .dataframe tbody tr th:only-of-type {\n",
       "        vertical-align: middle;\n",
       "    }\n",
       "\n",
       "    .dataframe tbody tr th {\n",
       "        vertical-align: top;\n",
       "    }\n",
       "\n",
       "    .dataframe thead th {\n",
       "        text-align: right;\n",
       "    }\n",
       "</style>\n",
       "<table border=\"1\" class=\"dataframe\">\n",
       "  <thead>\n",
       "    <tr style=\"text-align: right;\">\n",
       "      <th></th>\n",
       "      <th>title</th>\n",
       "      <th>date</th>\n",
       "      <th>source</th>\n",
       "      <th>title_target</th>\n",
       "    </tr>\n",
       "  </thead>\n",
       "  <tbody>\n",
       "    <tr>\n",
       "      <th>count</th>\n",
       "      <td>768</td>\n",
       "      <td>768</td>\n",
       "      <td>768</td>\n",
       "      <td>768</td>\n",
       "    </tr>\n",
       "    <tr>\n",
       "      <th>unique</th>\n",
       "      <td>511</td>\n",
       "      <td>346</td>\n",
       "      <td>354</td>\n",
       "      <td>749</td>\n",
       "    </tr>\n",
       "    <tr>\n",
       "      <th>top</th>\n",
       "      <td>She Stoops to Conquer</td>\n",
       "      <td>1840-03-07</td>\n",
       "      <td>https://api.bl.uk/metadata/iiif/ark:/81055/vdc...</td>\n",
       "      <td>{u'source': u'https://api.bl.uk/metadata/iiif/...</td>\n",
       "    </tr>\n",
       "    <tr>\n",
       "      <th>freq</th>\n",
       "      <td>9</td>\n",
       "      <td>13</td>\n",
       "      <td>13</td>\n",
       "      <td>2</td>\n",
       "    </tr>\n",
       "  </tbody>\n",
       "</table>\n",
       "</div>"
      ],
      "text/plain": [
       "                        title        date  \\\n",
       "count                     768         768   \n",
       "unique                    511         346   \n",
       "top     She Stoops to Conquer  1840-03-07   \n",
       "freq                        9          13   \n",
       "\n",
       "                                                   source  \\\n",
       "count                                                 768   \n",
       "unique                                                354   \n",
       "top     https://api.bl.uk/metadata/iiif/ark:/81055/vdc...   \n",
       "freq                                                   13   \n",
       "\n",
       "                                             title_target  \n",
       "count                                                 768  \n",
       "unique                                                749  \n",
       "top     {u'source': u'https://api.bl.uk/metadata/iiif/...  \n",
       "freq                                                    2  "
      ]
     },
     "execution_count": 63,
     "metadata": {},
     "output_type": "execute_result"
    }
   ],
   "source": [
    "plays_df.to_json('../data/performance_titles_dates.gz', compression='gzip')\n",
    "plays_df.describe()"
   ]
  },
  {
   "cell_type": "markdown",
   "metadata": {},
   "source": [
    "pybossa_tasks_df = pandas.read_pickle('../data/pybossa_tasks.pkl')"
   ]
  }
 ],
 "metadata": {
  "kernelspec": {
   "display_name": "Python 2",
   "language": "python",
   "name": "python2"
  },
  "language_info": {
   "codemirror_mode": {
    "name": "ipython",
    "version": 2
   },
   "file_extension": ".py",
   "mimetype": "text/x-python",
   "name": "python",
   "nbconvert_exporter": "python",
   "pygments_lexer": "ipython2",
   "version": "2.7.13"
  }
 },
 "nbformat": 4,
 "nbformat_minor": 2
}
