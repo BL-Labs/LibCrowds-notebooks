{
 "cells": [
  {
   "cell_type": "markdown",
   "metadata": {},
   "source": [
    "# An Introduction to Visualising In the Spotlight Data Using Python\n",
    "\n",
    "In this notebook we will introduce a way of producing visualisations of [*In the Spotlight*](https://www.libcrowds.com/collection/playbills) results data, using Python.\n",
    "\n",
    "[Plotly.py](https://plot.ly/d3-js-for-python-and-pandas-charts/) is a Python graphing library that can be used to produce over 30 chart types that can viewed in Jupyter notebooks. We will use it here to produce pie and bar charts. In future notebooks we may go on to explore some more complex chart types.\n",
    "\n",
    "We begin by importing the required Python libraries, pandas and plotly."
   ]
  },
  {
   "cell_type": "code",
   "execution_count": 1,
   "metadata": {},
   "outputs": [],
   "source": [
    "import pandas\n",
    "import plotly"
   ]
  },
  {
   "cell_type": "markdown",
   "metadata": {},
   "source": [
    "## The dataset\n",
    "\n",
    "Our input will be the dataframe of performance data introduced in a [previous notebook](intro_to_analysing_its_data_using_python.ipynb). Again, all we need to know about the code block below is that it loads our dataframe of performance data."
   ]
  },
  {
   "cell_type": "code",
   "execution_count": 2,
   "metadata": {},
   "outputs": [],
   "source": [
    "import os\n",
    "import sys\n",
    "module_path = os.path.abspath(os.path.join('..', 'data', 'scripts'))\n",
    "if module_path not in sys.path:\n",
    "    sys.path.append(module_path)\n",
    "from get_its_performances import get_performances_df\n",
    "df = get_performances_df()"
   ]
  },
  {
   "cell_type": "markdown",
   "metadata": {},
   "source": [
    "As a reminder of how this dataframe looks we can run the `head()` function."
   ]
  },
  {
   "cell_type": "code",
   "execution_count": 3,
   "metadata": {},
   "outputs": [
    {
     "data": {
      "text/html": [
       "<div>\n",
       "<style scoped>\n",
       "    .dataframe tbody tr th:only-of-type {\n",
       "        vertical-align: middle;\n",
       "    }\n",
       "\n",
       "    .dataframe tbody tr th {\n",
       "        vertical-align: top;\n",
       "    }\n",
       "\n",
       "    .dataframe thead th {\n",
       "        text-align: right;\n",
       "    }\n",
       "</style>\n",
       "<table border=\"1\" class=\"dataframe\">\n",
       "  <thead>\n",
       "    <tr style=\"text-align: right;\">\n",
       "      <th></th>\n",
       "      <th>title</th>\n",
       "      <th>date</th>\n",
       "      <th>genre</th>\n",
       "      <th>link</th>\n",
       "      <th>theatre</th>\n",
       "      <th>city</th>\n",
       "      <th>source</th>\n",
       "    </tr>\n",
       "  </thead>\n",
       "  <tbody>\n",
       "    <tr>\n",
       "      <th>0</th>\n",
       "      <td>Black-Eyed Susan</td>\n",
       "      <td>1829-12-03</td>\n",
       "      <td>Nautical Drama</td>\n",
       "      <td>http://access.bl.uk/item/viewer/ark:/81055/vdc...</td>\n",
       "      <td>Miscellaneous Plymouth theatres</td>\n",
       "      <td>Plymouth</td>\n",
       "      <td>https://api.bl.uk/metadata/iiif/ark:/81055/vdc...</td>\n",
       "    </tr>\n",
       "    <tr>\n",
       "      <th>1</th>\n",
       "      <td>Black-Eyed Susan</td>\n",
       "      <td>1829-12-03</td>\n",
       "      <td>Nautical Drama</td>\n",
       "      <td>http://access.bl.uk/item/viewer/ark:/81055/vdc...</td>\n",
       "      <td>Miscellaneous Plymouth theatres</td>\n",
       "      <td>Plymouth</td>\n",
       "      <td>https://api.bl.uk/metadata/iiif/ark:/81055/vdc...</td>\n",
       "    </tr>\n",
       "    <tr>\n",
       "      <th>2</th>\n",
       "      <td>Black-Eyed Susan</td>\n",
       "      <td>1829-12-03</td>\n",
       "      <td>Nautical Drama</td>\n",
       "      <td>http://access.bl.uk/item/viewer/ark:/81055/vdc...</td>\n",
       "      <td>Miscellaneous Plymouth theatres</td>\n",
       "      <td>Plymouth</td>\n",
       "      <td>https://api.bl.uk/metadata/iiif/ark:/81055/vdc...</td>\n",
       "    </tr>\n",
       "    <tr>\n",
       "      <th>3</th>\n",
       "      <td>Black-Eyed Susan</td>\n",
       "      <td>1829-12-03</td>\n",
       "      <td>Nautical Drama</td>\n",
       "      <td>http://access.bl.uk/item/viewer/ark:/81055/vdc...</td>\n",
       "      <td>Miscellaneous Plymouth theatres</td>\n",
       "      <td>Plymouth</td>\n",
       "      <td>https://api.bl.uk/metadata/iiif/ark:/81055/vdc...</td>\n",
       "    </tr>\n",
       "    <tr>\n",
       "      <th>4</th>\n",
       "      <td>Black-Eyed Susan</td>\n",
       "      <td>1829-12-03</td>\n",
       "      <td>Nautical Drama</td>\n",
       "      <td>http://access.bl.uk/item/viewer/ark:/81055/vdc...</td>\n",
       "      <td>Miscellaneous Plymouth theatres</td>\n",
       "      <td>Plymouth</td>\n",
       "      <td>https://api.bl.uk/metadata/iiif/ark:/81055/vdc...</td>\n",
       "    </tr>\n",
       "  </tbody>\n",
       "</table>\n",
       "</div>"
      ],
      "text/plain": [
       "              title        date           genre  \\\n",
       "0  Black-Eyed Susan  1829-12-03  Nautical Drama   \n",
       "1  Black-Eyed Susan  1829-12-03  Nautical Drama   \n",
       "2  Black-Eyed Susan  1829-12-03  Nautical Drama   \n",
       "3  Black-Eyed Susan  1829-12-03  Nautical Drama   \n",
       "4  Black-Eyed Susan  1829-12-03  Nautical Drama   \n",
       "\n",
       "                                                link  \\\n",
       "0  http://access.bl.uk/item/viewer/ark:/81055/vdc...   \n",
       "1  http://access.bl.uk/item/viewer/ark:/81055/vdc...   \n",
       "2  http://access.bl.uk/item/viewer/ark:/81055/vdc...   \n",
       "3  http://access.bl.uk/item/viewer/ark:/81055/vdc...   \n",
       "4  http://access.bl.uk/item/viewer/ark:/81055/vdc...   \n",
       "\n",
       "                           theatre      city  \\\n",
       "0  Miscellaneous Plymouth theatres  Plymouth   \n",
       "1  Miscellaneous Plymouth theatres  Plymouth   \n",
       "2  Miscellaneous Plymouth theatres  Plymouth   \n",
       "3  Miscellaneous Plymouth theatres  Plymouth   \n",
       "4  Miscellaneous Plymouth theatres  Plymouth   \n",
       "\n",
       "                                              source  \n",
       "0  https://api.bl.uk/metadata/iiif/ark:/81055/vdc...  \n",
       "1  https://api.bl.uk/metadata/iiif/ark:/81055/vdc...  \n",
       "2  https://api.bl.uk/metadata/iiif/ark:/81055/vdc...  \n",
       "3  https://api.bl.uk/metadata/iiif/ark:/81055/vdc...  \n",
       "4  https://api.bl.uk/metadata/iiif/ark:/81055/vdc...  "
      ]
     },
     "execution_count": 3,
     "metadata": {},
     "output_type": "execute_result"
    }
   ],
   "source": [
    "df.head()"
   ]
  },
  {
   "cell_type": "markdown",
   "metadata": {},
   "source": [
    "## Pie charts\n",
    "\n",
    "Pie charts are perhaps one of the most straightforward types of visualisation to get started with, all we need are a list of unique labels against the a list of counts for those labels. We can get these by using the `value_counts()` method, which was introduced in an [earlier notebook](intro_to_analysing_its_data_using_python.ipynb).\n",
    "\n",
    "The `entity` variable defined below identifies the column that we are counting."
   ]
  },
  {
   "cell_type": "code",
   "execution_count": 4,
   "metadata": {},
   "outputs": [],
   "source": [
    "entity = 'genre'\n",
    "series = df[entity].value_counts()"
   ]
  },
  {
   "cell_type": "markdown",
   "metadata": {},
   "source": [
    "The output of the `value_counts()` function is a pandas [Series](https://pandas.pydata.org/pandas-docs/stable/dsintro.html#series), which is a one-dimensional labeled array capable of holding any data type. As with a dataframe, we can also use the `head()` function with a series to display a quick snapshot of the data."
   ]
  },
  {
   "cell_type": "code",
   "execution_count": 5,
   "metadata": {},
   "outputs": [
    {
     "data": {
      "text/plain": [
       "Comedy     3136\n",
       "Farce      2702\n",
       "Drama      1742\n",
       "Play       1108\n",
       "Tragedy    1073\n",
       "Name: genre, dtype: int64"
      ]
     },
     "execution_count": 5,
     "metadata": {},
     "output_type": "execute_result"
    }
   ],
   "source": [
    "series.head()"
   ]
  },
  {
   "cell_type": "markdown",
   "metadata": {},
   "source": [
    "We can now define the labels and values to be used for our chart. Below, a limit of 10 is defined, before taking that number of rows and setting these as our *labels* and *values*."
   ]
  },
  {
   "cell_type": "code",
   "execution_count": 6,
   "metadata": {},
   "outputs": [],
   "source": [
    "limit = 10\n",
    "labels = series[:limit].index.tolist()\n",
    "values = series[:limit].tolist()"
   ]
  },
  {
   "cell_type": "markdown",
   "metadata": {},
   "source": [
    "The Plotly chart can then be generated and displayed using the code below."
   ]
  },
  {
   "cell_type": "code",
   "execution_count": 7,
   "metadata": {},
   "outputs": [
    {
     "data": {
      "application/vnd.jupyter.widget-view+json": {
       "model_id": "473573a93cdc48398a6db7670c2941f1",
       "version_major": 2,
       "version_minor": 0
      },
      "text/plain": [
       "FigureWidget({\n",
       "    'data': [{'labels': [Comedy, Farce, Drama, Play, Tragedy, Interlude, Musical\n",
       "              …"
      ]
     },
     "metadata": {},
     "output_type": "display_data"
    }
   ],
   "source": [
    "f = plotly.graph_objs.FigureWidget()\n",
    "f.add_pie(labels=labels, values=values)\n",
    "f"
   ]
  },
  {
   "cell_type": "markdown",
   "metadata": {},
   "source": [
    "There are many options available in the plotly library for styling these charts, such as hiding the legend or displaying additional information when hovering over particular areas. These options are probably a little too much to get into here but more details can be found in the [plotly documentation](https://plot.ly/).\n",
    "\n",
    "To see the chart for a different column, such as title, you can try modifying the `entity` variable above. Note that the percentages shown are of the slice of data defined by our specified `limit`, rather than of the whole dataset."
   ]
  },
  {
   "cell_type": "markdown",
   "metadata": {},
   "source": [
    "## Bar charts\n",
    "\n",
    "Bar charts can be produced with very similar code to the pie chart generated above. Again, we just need a list of labels and a list of values. In fact, we will produce our first chart using the labels and values already defined above."
   ]
  },
  {
   "cell_type": "code",
   "execution_count": 8,
   "metadata": {},
   "outputs": [
    {
     "data": {
      "application/vnd.jupyter.widget-view+json": {
       "model_id": "b48a42fdc6044be7873a1f2c6fef1133",
       "version_major": 2,
       "version_minor": 0
      },
      "text/plain": [
       "FigureWidget({\n",
       "    'data': [{'type': 'bar',\n",
       "              'uid': 'd2f0658c-891b-11e8-8cfd-5ce0c5750c96',\n",
       "     …"
      ]
     },
     "metadata": {},
     "output_type": "display_data"
    }
   ],
   "source": [
    "f = plotly.graph_objs.FigureWidget()\n",
    "f.add_bar(x=labels, y=values)\n",
    "f"
   ]
  },
  {
   "cell_type": "markdown",
   "metadata": {},
   "source": [
    "Again, you can generate a chart for a different column by assigning a different value to the `entity` variable above."
   ]
  },
  {
   "cell_type": "markdown",
   "metadata": {},
   "source": [
    "## Summary\n",
    "\n",
    "In this notebook we began visualising our perfomance data using Python."
   ]
  },
  {
   "cell_type": "code",
   "execution_count": null,
   "metadata": {},
   "outputs": [],
   "source": []
  }
 ],
 "metadata": {
  "kernelspec": {
   "display_name": "Python 3",
   "language": "python",
   "name": "python3"
  },
  "language_info": {
   "codemirror_mode": {
    "name": "ipython",
    "version": 3
   },
   "file_extension": ".py",
   "mimetype": "text/x-python",
   "name": "python",
   "nbconvert_exporter": "python",
   "pygments_lexer": "ipython3",
   "version": "3.7.0"
  }
 },
 "nbformat": 4,
 "nbformat_minor": 2
}
