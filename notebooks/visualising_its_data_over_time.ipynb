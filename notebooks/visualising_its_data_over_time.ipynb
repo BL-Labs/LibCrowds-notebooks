{
 "cells": [
  {
   "cell_type": "markdown",
   "metadata": {},
   "source": [
    "# Visualising In the Spotlight Data Over Time\n",
    "\n",
    "In this notebook we will produce some visualisations of [*In the Spotlight*](https://www.libcrowds.com/collection/playbills) performance data over time to see if we can begin to identify any trends.\n",
    "\n",
    "As we begin to get into more complicated territory, we won't explain every function used in detail. However, hopefully there will be something here that most can follow.\n",
    "\n",
    "We will again use pandas and plotly as our core Python libraries, both of which were introduced in previous notebooks."
   ]
  },
  {
   "cell_type": "code",
   "execution_count": 214,
   "metadata": {},
   "outputs": [],
   "source": [
    "import pandas\n",
    "import plotly"
   ]
  },
  {
   "cell_type": "markdown",
   "metadata": {},
   "source": [
    "## The dataset\n",
    "\n",
    "Our input will again be the dataframe of performance data introduced in a [previous notebook](intro_to_analysing_its_data_using_python.ipynb). The dataframe is loaded in the code block below."
   ]
  },
  {
   "cell_type": "code",
   "execution_count": 215,
   "metadata": {},
   "outputs": [],
   "source": [
    "import os\n",
    "import sys\n",
    "module_path = os.path.abspath(os.path.join('..', 'data', 'scripts'))\n",
    "if module_path not in sys.path:\n",
    "    sys.path.append(module_path)\n",
    "from get_its_performances import get_performances_df\n",
    "df = get_performances_df()"
   ]
  },
  {
   "cell_type": "markdown",
   "metadata": {},
   "source": [
    "As a reminder of how this dataframe looks we can run the `head()` function."
   ]
  },
  {
   "cell_type": "code",
   "execution_count": 216,
   "metadata": {},
   "outputs": [
    {
     "data": {
      "text/html": [
       "<div>\n",
       "<style scoped>\n",
       "    .dataframe tbody tr th:only-of-type {\n",
       "        vertical-align: middle;\n",
       "    }\n",
       "\n",
       "    .dataframe tbody tr th {\n",
       "        vertical-align: top;\n",
       "    }\n",
       "\n",
       "    .dataframe thead th {\n",
       "        text-align: right;\n",
       "    }\n",
       "</style>\n",
       "<table border=\"1\" class=\"dataframe\">\n",
       "  <thead>\n",
       "    <tr style=\"text-align: right;\">\n",
       "      <th></th>\n",
       "      <th>title</th>\n",
       "      <th>date</th>\n",
       "      <th>genre</th>\n",
       "      <th>link</th>\n",
       "      <th>theatre</th>\n",
       "      <th>city</th>\n",
       "      <th>source</th>\n",
       "    </tr>\n",
       "  </thead>\n",
       "  <tbody>\n",
       "    <tr>\n",
       "      <th>0</th>\n",
       "      <td>Black-Eyed Susan</td>\n",
       "      <td>1829-12-03</td>\n",
       "      <td>Nautical Drama</td>\n",
       "      <td>http://access.bl.uk/item/viewer/ark:/81055/vdc...</td>\n",
       "      <td>Miscellaneous Plymouth theatres</td>\n",
       "      <td>Plymouth</td>\n",
       "      <td>https://api.bl.uk/metadata/iiif/ark:/81055/vdc...</td>\n",
       "    </tr>\n",
       "    <tr>\n",
       "      <th>1</th>\n",
       "      <td>Black-Eyed Susan</td>\n",
       "      <td>1829-12-03</td>\n",
       "      <td>Nautical Drama</td>\n",
       "      <td>http://access.bl.uk/item/viewer/ark:/81055/vdc...</td>\n",
       "      <td>Miscellaneous Plymouth theatres</td>\n",
       "      <td>Plymouth</td>\n",
       "      <td>https://api.bl.uk/metadata/iiif/ark:/81055/vdc...</td>\n",
       "    </tr>\n",
       "    <tr>\n",
       "      <th>2</th>\n",
       "      <td>Black-Eyed Susan</td>\n",
       "      <td>1829-12-03</td>\n",
       "      <td>Nautical Drama</td>\n",
       "      <td>http://access.bl.uk/item/viewer/ark:/81055/vdc...</td>\n",
       "      <td>Miscellaneous Plymouth theatres</td>\n",
       "      <td>Plymouth</td>\n",
       "      <td>https://api.bl.uk/metadata/iiif/ark:/81055/vdc...</td>\n",
       "    </tr>\n",
       "    <tr>\n",
       "      <th>3</th>\n",
       "      <td>Black-Eyed Susan</td>\n",
       "      <td>1829-12-03</td>\n",
       "      <td>Nautical Drama</td>\n",
       "      <td>http://access.bl.uk/item/viewer/ark:/81055/vdc...</td>\n",
       "      <td>Miscellaneous Plymouth theatres</td>\n",
       "      <td>Plymouth</td>\n",
       "      <td>https://api.bl.uk/metadata/iiif/ark:/81055/vdc...</td>\n",
       "    </tr>\n",
       "    <tr>\n",
       "      <th>4</th>\n",
       "      <td>Black-Eyed Susan</td>\n",
       "      <td>1829-12-03</td>\n",
       "      <td>Nautical Drama</td>\n",
       "      <td>http://access.bl.uk/item/viewer/ark:/81055/vdc...</td>\n",
       "      <td>Miscellaneous Plymouth theatres</td>\n",
       "      <td>Plymouth</td>\n",
       "      <td>https://api.bl.uk/metadata/iiif/ark:/81055/vdc...</td>\n",
       "    </tr>\n",
       "  </tbody>\n",
       "</table>\n",
       "</div>"
      ],
      "text/plain": [
       "              title        date           genre  \\\n",
       "0  Black-Eyed Susan  1829-12-03  Nautical Drama   \n",
       "1  Black-Eyed Susan  1829-12-03  Nautical Drama   \n",
       "2  Black-Eyed Susan  1829-12-03  Nautical Drama   \n",
       "3  Black-Eyed Susan  1829-12-03  Nautical Drama   \n",
       "4  Black-Eyed Susan  1829-12-03  Nautical Drama   \n",
       "\n",
       "                                                link  \\\n",
       "0  http://access.bl.uk/item/viewer/ark:/81055/vdc...   \n",
       "1  http://access.bl.uk/item/viewer/ark:/81055/vdc...   \n",
       "2  http://access.bl.uk/item/viewer/ark:/81055/vdc...   \n",
       "3  http://access.bl.uk/item/viewer/ark:/81055/vdc...   \n",
       "4  http://access.bl.uk/item/viewer/ark:/81055/vdc...   \n",
       "\n",
       "                           theatre      city  \\\n",
       "0  Miscellaneous Plymouth theatres  Plymouth   \n",
       "1  Miscellaneous Plymouth theatres  Plymouth   \n",
       "2  Miscellaneous Plymouth theatres  Plymouth   \n",
       "3  Miscellaneous Plymouth theatres  Plymouth   \n",
       "4  Miscellaneous Plymouth theatres  Plymouth   \n",
       "\n",
       "                                              source  \n",
       "0  https://api.bl.uk/metadata/iiif/ark:/81055/vdc...  \n",
       "1  https://api.bl.uk/metadata/iiif/ark:/81055/vdc...  \n",
       "2  https://api.bl.uk/metadata/iiif/ark:/81055/vdc...  \n",
       "3  https://api.bl.uk/metadata/iiif/ark:/81055/vdc...  \n",
       "4  https://api.bl.uk/metadata/iiif/ark:/81055/vdc...  "
      ]
     },
     "execution_count": 216,
     "metadata": {},
     "output_type": "execute_result"
    }
   ],
   "source": [
    "df.head()"
   ]
  },
  {
   "cell_type": "markdown",
   "metadata": {},
   "source": [
    "## Adding days, months and years to the dataframe\n",
    "\n",
    "As we begin looking at our date information more closely it might be useful to add separate columns for day, month and year to our dataframe so that we can plot other entities against these values.\n",
    "\n",
    "We will also want to remove any rows that do not contian a date, or contain an incomplete date, as is the case for many of the playbills. The following line of code checks each value in the date column against a regular expression and removes those rows that do not match the pattern that identifies a complete date."
   ]
  },
  {
   "cell_type": "code",
   "execution_count": 217,
   "metadata": {},
   "outputs": [],
   "source": [
    "df = df[df.date.str.contains('\\d{4}-\\d{2}-\\d{2}', na=False)]"
   ]
  },
  {
   "cell_type": "markdown",
   "metadata": {},
   "source": [
    "The date column is then converted to a date type."
   ]
  },
  {
   "cell_type": "code",
   "execution_count": 218,
   "metadata": {},
   "outputs": [],
   "source": [
    "df['date'] = pandas.to_datetime(df['date'])"
   ]
  },
  {
   "cell_type": "markdown",
   "metadata": {},
   "source": [
    "We are now ready to create our additional columns."
   ]
  },
  {
   "cell_type": "code",
   "execution_count": 219,
   "metadata": {},
   "outputs": [],
   "source": [
    "df['day'] = df['date'].dt.strftime('%d').astype('int32')\n",
    "df['month'] = df['date'].dt.strftime('%m').astype('int32')\n",
    "df['year'] = df['date'].dt.strftime('%Y').astype('int32')"
   ]
  },
  {
   "cell_type": "code",
   "execution_count": 220,
   "metadata": {},
   "outputs": [
    {
     "data": {
      "text/html": [
       "<div>\n",
       "<style scoped>\n",
       "    .dataframe tbody tr th:only-of-type {\n",
       "        vertical-align: middle;\n",
       "    }\n",
       "\n",
       "    .dataframe tbody tr th {\n",
       "        vertical-align: top;\n",
       "    }\n",
       "\n",
       "    .dataframe thead th {\n",
       "        text-align: right;\n",
       "    }\n",
       "</style>\n",
       "<table border=\"1\" class=\"dataframe\">\n",
       "  <thead>\n",
       "    <tr style=\"text-align: right;\">\n",
       "      <th></th>\n",
       "      <th>title</th>\n",
       "      <th>date</th>\n",
       "      <th>genre</th>\n",
       "      <th>link</th>\n",
       "      <th>theatre</th>\n",
       "      <th>city</th>\n",
       "      <th>source</th>\n",
       "      <th>day</th>\n",
       "      <th>month</th>\n",
       "      <th>year</th>\n",
       "    </tr>\n",
       "  </thead>\n",
       "  <tbody>\n",
       "    <tr>\n",
       "      <th>0</th>\n",
       "      <td>Black-Eyed Susan</td>\n",
       "      <td>1829-12-03</td>\n",
       "      <td>Nautical Drama</td>\n",
       "      <td>http://access.bl.uk/item/viewer/ark:/81055/vdc...</td>\n",
       "      <td>Miscellaneous Plymouth theatres</td>\n",
       "      <td>Plymouth</td>\n",
       "      <td>https://api.bl.uk/metadata/iiif/ark:/81055/vdc...</td>\n",
       "      <td>3</td>\n",
       "      <td>12</td>\n",
       "      <td>1829</td>\n",
       "    </tr>\n",
       "    <tr>\n",
       "      <th>1</th>\n",
       "      <td>Black-Eyed Susan</td>\n",
       "      <td>1829-12-03</td>\n",
       "      <td>Nautical Drama</td>\n",
       "      <td>http://access.bl.uk/item/viewer/ark:/81055/vdc...</td>\n",
       "      <td>Miscellaneous Plymouth theatres</td>\n",
       "      <td>Plymouth</td>\n",
       "      <td>https://api.bl.uk/metadata/iiif/ark:/81055/vdc...</td>\n",
       "      <td>3</td>\n",
       "      <td>12</td>\n",
       "      <td>1829</td>\n",
       "    </tr>\n",
       "    <tr>\n",
       "      <th>2</th>\n",
       "      <td>Black-Eyed Susan</td>\n",
       "      <td>1829-12-03</td>\n",
       "      <td>Nautical Drama</td>\n",
       "      <td>http://access.bl.uk/item/viewer/ark:/81055/vdc...</td>\n",
       "      <td>Miscellaneous Plymouth theatres</td>\n",
       "      <td>Plymouth</td>\n",
       "      <td>https://api.bl.uk/metadata/iiif/ark:/81055/vdc...</td>\n",
       "      <td>3</td>\n",
       "      <td>12</td>\n",
       "      <td>1829</td>\n",
       "    </tr>\n",
       "    <tr>\n",
       "      <th>3</th>\n",
       "      <td>Black-Eyed Susan</td>\n",
       "      <td>1829-12-03</td>\n",
       "      <td>Nautical Drama</td>\n",
       "      <td>http://access.bl.uk/item/viewer/ark:/81055/vdc...</td>\n",
       "      <td>Miscellaneous Plymouth theatres</td>\n",
       "      <td>Plymouth</td>\n",
       "      <td>https://api.bl.uk/metadata/iiif/ark:/81055/vdc...</td>\n",
       "      <td>3</td>\n",
       "      <td>12</td>\n",
       "      <td>1829</td>\n",
       "    </tr>\n",
       "    <tr>\n",
       "      <th>4</th>\n",
       "      <td>Black-Eyed Susan</td>\n",
       "      <td>1829-12-03</td>\n",
       "      <td>Nautical Drama</td>\n",
       "      <td>http://access.bl.uk/item/viewer/ark:/81055/vdc...</td>\n",
       "      <td>Miscellaneous Plymouth theatres</td>\n",
       "      <td>Plymouth</td>\n",
       "      <td>https://api.bl.uk/metadata/iiif/ark:/81055/vdc...</td>\n",
       "      <td>3</td>\n",
       "      <td>12</td>\n",
       "      <td>1829</td>\n",
       "    </tr>\n",
       "  </tbody>\n",
       "</table>\n",
       "</div>"
      ],
      "text/plain": [
       "              title       date           genre  \\\n",
       "0  Black-Eyed Susan 1829-12-03  Nautical Drama   \n",
       "1  Black-Eyed Susan 1829-12-03  Nautical Drama   \n",
       "2  Black-Eyed Susan 1829-12-03  Nautical Drama   \n",
       "3  Black-Eyed Susan 1829-12-03  Nautical Drama   \n",
       "4  Black-Eyed Susan 1829-12-03  Nautical Drama   \n",
       "\n",
       "                                                link  \\\n",
       "0  http://access.bl.uk/item/viewer/ark:/81055/vdc...   \n",
       "1  http://access.bl.uk/item/viewer/ark:/81055/vdc...   \n",
       "2  http://access.bl.uk/item/viewer/ark:/81055/vdc...   \n",
       "3  http://access.bl.uk/item/viewer/ark:/81055/vdc...   \n",
       "4  http://access.bl.uk/item/viewer/ark:/81055/vdc...   \n",
       "\n",
       "                           theatre      city  \\\n",
       "0  Miscellaneous Plymouth theatres  Plymouth   \n",
       "1  Miscellaneous Plymouth theatres  Plymouth   \n",
       "2  Miscellaneous Plymouth theatres  Plymouth   \n",
       "3  Miscellaneous Plymouth theatres  Plymouth   \n",
       "4  Miscellaneous Plymouth theatres  Plymouth   \n",
       "\n",
       "                                              source  day  month  year  \n",
       "0  https://api.bl.uk/metadata/iiif/ark:/81055/vdc...    3     12  1829  \n",
       "1  https://api.bl.uk/metadata/iiif/ark:/81055/vdc...    3     12  1829  \n",
       "2  https://api.bl.uk/metadata/iiif/ark:/81055/vdc...    3     12  1829  \n",
       "3  https://api.bl.uk/metadata/iiif/ark:/81055/vdc...    3     12  1829  \n",
       "4  https://api.bl.uk/metadata/iiif/ark:/81055/vdc...    3     12  1829  "
      ]
     },
     "execution_count": 220,
     "metadata": {},
     "output_type": "execute_result"
    }
   ],
   "source": [
    "df.head()"
   ]
  },
  {
   "cell_type": "markdown",
   "metadata": {},
   "source": [
    "## Mapping entities against years\n",
    "\n",
    "Now that we have our date parts in separate columns we can begin to map other entities against them. The code block below defines an entity and a date part to map against each other, then creates a dictionary with counts of that entity for each date part."
   ]
  },
  {
   "cell_type": "code",
   "execution_count": 221,
   "metadata": {},
   "outputs": [],
   "source": [
    "entity = 'genre'\n",
    "date_part = 'month'\n",
    "limit = 10\n",
    "min_part = df[date_part].min()\n",
    "max_part = df[date_part].max()\n",
    "top_entities = df[entity].value_counts().index.tolist()[:limit]\n",
    "groups = df.groupby(entity)"
   ]
  },
  {
   "cell_type": "code",
   "execution_count": 222,
   "metadata": {},
   "outputs": [],
   "source": [
    "data = {}\n",
    "for key, group_df in groups:\n",
    "    if key not in top_entities:\n",
    "        continue\n",
    "    counts = group_df[date_part].value_counts().to_dict()\n",
    "    x = list(range(min_part, max_part + 1))\n",
    "    y = [counts[item] if item in counts else 0 for item in x]\n",
    "    data[key] = {'x': x, 'y': y}"
   ]
  },
  {
   "cell_type": "markdown",
   "metadata": {},
   "source": [
    "Plot the chart..."
   ]
  },
  {
   "cell_type": "code",
   "execution_count": 223,
   "metadata": {},
   "outputs": [
    {
     "data": {
      "application/vnd.jupyter.widget-view+json": {
       "model_id": "b39bcd50512b461d9984c0f6b1a5005d",
       "version_major": 2,
       "version_minor": 0
      },
      "text/plain": [
       "FigureWidget({\n",
       "    'data': [{'name': 'Comedy',\n",
       "              'type': 'scatter',\n",
       "              'uid': '1c4c215c…"
      ]
     },
     "metadata": {},
     "output_type": "display_data"
    }
   ],
   "source": [
    "f = plotly.graph_objs.FigureWidget()\n",
    "for key, value in data.items():\n",
    "    f.add_scatter(x=value['x'], y=value['y'], name=key)\n",
    "f"
   ]
  },
  {
   "cell_type": "markdown",
   "metadata": {},
   "source": [
    "## Summary\n",
    "\n",
    "Work in progress!"
   ]
  },
  {
   "cell_type": "code",
   "execution_count": null,
   "metadata": {},
   "outputs": [],
   "source": []
  }
 ],
 "metadata": {
  "kernelspec": {
   "display_name": "Python 3",
   "language": "python",
   "name": "python3"
  },
  "language_info": {
   "codemirror_mode": {
    "name": "ipython",
    "version": 3
   },
   "file_extension": ".py",
   "mimetype": "text/x-python",
   "name": "python",
   "nbconvert_exporter": "python",
   "pygments_lexer": "ipython3",
   "version": "3.7.0"
  }
 },
 "nbformat": 4,
 "nbformat_minor": 2
}
