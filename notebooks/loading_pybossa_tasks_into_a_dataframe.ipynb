{
 "cells": [
  {
   "cell_type": "markdown",
   "metadata": {},
   "source": [
    "# Appendix A: Loading PYBOSSA Tasks into a Dataframe\n",
    "\n",
    "The code presented in this notebook downloads all PYBOSSA task objects via the and loads them into a dataframe. The code is not explained in detail as the main purpose of the notebooks in this repository is not to explore how to download PYBOSSA domain objects.\n",
    "\n",
    "At the time of writing, the LibCrowds rate limit is set to 1000 per 15 minutes and the PYBOSSA API allows us to retrieve a maximum of 100 task objects with one request. So, we can request up to 100,000 tasks every 15 minutes. The code below reads the rate limit headers returned with each request and if the limit is hit will sleep until it is reset.\n",
    "\n",
    "For more details about the PYBOSSA API please refer to the [PYBOSSA documentation](http://docs.pybossa.com)."
   ]
  },
  {
   "cell_type": "code",
   "execution_count": 2,
   "metadata": {},
   "outputs": [],
   "source": [
    "import requests\n",
    "import datetime\n",
    "import pandas\n",
    "\n",
    "\n",
    "API_BASE = 'https://www.libcrowds.com/api/'\n",
    "\n",
    "\n",
    "def get(domain_obj, offset=0):\n",
    "    \"\"\"Get a set of domain objects.\"\"\"\n",
    "    r = requests.get(API_BASE + domain_obj, params={\n",
    "        'offset': offset,\n",
    "        'limit': 100,\n",
    "        'all': 1\n",
    "    })\n",
    "    r.raise_for_status()\n",
    "    return r\n",
    "\n",
    "\n",
    "def load(domain_obj):\n",
    "    \"\"\"Load all of the chosen domain objects.\"\"\"\n",
    "    data = []\n",
    "    last_fetched = []\n",
    "    while _not_exhausted(last_fetched):\n",
    "        r = get(domain_obj, len(data))\n",
    "        last_fetched = r.json()\n",
    "        data += last_fetched\n",
    "        respect_rate_limits(r)\n",
    "    return data\n",
    "\n",
    "\n",
    "def _not_exhausted(last_fetched):\n",
    "    \"\"\"Check if the last fetched tasks were the last available.\"\"\"\n",
    "    return len(last_fetched) == 0 or len(last_fetched) == 100\n",
    "\n",
    "\n",
    "def respect_rate_limits(response):\n",
    "    \"\"\"If we have exceeded the rate limit sleep until it is refreshed.\"\"\"\n",
    "    reset = response.headers['x-ratelimit-reset']\n",
    "    reset_dt = datetime.datetime.fromtimestamp(float(reset))\n",
    "    remaining = response.headers['x-ratelimit-remaining']\n",
    "    if remaining == 0:\n",
    "        while reset_dt > datetime.datetime.now():\n",
    "            sleep(1)\n",
    "\n",
    "            \n",
    "items = load('task')\n",
    "df = pandas.DataFrame(items)\n",
    "df.to_json('../data/pybossa_tasks.gz', compression='gzip')"
   ]
  }
 ],
 "metadata": {
  "kernelspec": {
   "display_name": "Python 2",
   "language": "python",
   "name": "python2"
  },
  "language_info": {
   "codemirror_mode": {
    "name": "ipython",
    "version": 2
   },
   "file_extension": ".py",
   "mimetype": "text/x-python",
   "name": "python",
   "nbconvert_exporter": "python",
   "pygments_lexer": "ipython2",
   "version": "2.7.12"
  }
 },
 "nbformat": 4,
 "nbformat_minor": 2
}
